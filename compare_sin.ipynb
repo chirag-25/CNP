{
 "cells": [
  {
   "cell_type": "code",
   "execution_count": 8,
   "metadata": {},
   "outputs": [],
   "source": [
    "import arviz as az"
   ]
  },
  {
   "cell_type": "code",
   "execution_count": 2,
   "metadata": {},
   "outputs": [],
   "source": [
    "import argparse\n",
    "import os\n",
    "import time\n",
    "\n",
    "import matplotlib\n",
    "import matplotlib.pyplot as plt\n",
    "import numpy as np\n",
    "\n",
    "from jax import vmap\n",
    "import jax.numpy as jnp\n",
    "import jax.random as random\n",
    "import jax\n",
    "\n",
    "import numpyro\n",
    "from numpyro import handlers\n",
    "import numpyro.distributions as dist\n",
    "from numpyro.infer import MCMC, NUTS, Predictive\n",
    "\n",
    "from scipy import stats\n",
    "import seaborn as sns\n",
    "from warnings import filterwarnings\n",
    "\n",
    "import sklearn\n",
    "from sklearn import datasets\n",
    "from sklearn.preprocessing import scale\n",
    "from sklearn.model_selection import train_test_split\n",
    "from sklearn.datasets import make_moons\n",
    "from sklearn.metrics import mean_squared_error\n",
    "\n",
    "filterwarnings(\"ignore\")\n",
    "sns.set_style(\"white\")\n",
    "\n",
    "cmap = sns.diverging_palette(250, 12, s=85, l=25, as_cmap=True)\n",
    "cmap_uncertainty = sns.cubehelix_palette(light=1, as_cmap=True)\n",
    "\n",
    "layer_names = [\"w1_c\", \"w2_c\", \"w3_c\"]"
   ]
  },
  {
   "cell_type": "code",
   "execution_count": 3,
   "metadata": {},
   "outputs": [],
   "source": [
    "import matplotlib.pyplot as plt\n",
    "%matplotlib inline\n",
    "import numpy as np\n",
    "import pandas as pd\n",
    "import matplotlib\n",
    "from math import sqrt\n",
    "SPINE_COLOR = 'gray'\n",
    "\n",
    "\n",
    "def latexify(fig_width=None, fig_height=None, columns=1):\n",
    "    \"\"\"Set up matplotlib's RC params for LaTeX plotting.\n",
    "    Call this before plotting a figure.\n",
    "\n",
    "    Parameters\n",
    "    ----------\n",
    "    fig_width : float, optional, inches\n",
    "    fig_height : float,  optional, inches\n",
    "    columns : {1, 2}\n",
    "    \"\"\"\n",
    "\n",
    "    # code adapted from http://www.scipy.org/Cookbook/Matplotlib/LaTeX_Examples\n",
    "\n",
    "    # Width and max height in inches for IEEE journals taken from\n",
    "    # computer.org/cms/Computer.org/Journal%20templates/transactions_art_guide.pdf\n",
    "\n",
    "    assert(columns in [1,2])\n",
    "\n",
    "    if fig_width is None:\n",
    "        fig_width = 3.39 if columns==1 else 6.9 # width in inches\n",
    "\n",
    "    if fig_height is None:\n",
    "        golden_mean = (sqrt(5)-1.0)/2.0    # Aesthetic ratio\n",
    "        fig_height = fig_width*golden_mean # height in inches\n",
    "\n",
    "    MAX_HEIGHT_INCHES = 8.0\n",
    "    if fig_height > MAX_HEIGHT_INCHES:\n",
    "        print(\"WARNING: fig_height too large:\" + fig_height + \n",
    "              \"so will reduce to\" + MAX_HEIGHT_INCHES + \"inches.\")\n",
    "        fig_height = MAX_HEIGHT_INCHES\n",
    "\n",
    "    params = {'backend': 'ps',\n",
    "              'text.latex.preamble': r'\\usepackage{gensymb}',\n",
    "              'axes.labelsize': 8, # fontsize for x and y labels (was 10)\n",
    "              'axes.titlesize': 8,\n",
    "              'font.size': 8, # was 10\n",
    "              'legend.fontsize': 8, # was 10\n",
    "              'xtick.labelsize': 8,\n",
    "              'ytick.labelsize': 8,\n",
    "              'text.usetex': True,\n",
    "              'figure.figsize': [fig_width,fig_height],\n",
    "              'font.family': 'serif'\n",
    "    }\n",
    "\n",
    "    matplotlib.rcParams.update(params)\n",
    "\n",
    "\n",
    "def format_axes(ax):\n",
    "\n",
    "    for spine in ['top', 'right']:\n",
    "        ax.spines[spine].set_visible(False)\n",
    "\n",
    "    for spine in ['left', 'bottom']:\n",
    "        ax.spines[spine].set_color(SPINE_COLOR)\n",
    "        ax.spines[spine].set_linewidth(0.5)\n",
    "\n",
    "    ax.xaxis.set_ticks_position('bottom')\n",
    "    ax.yaxis.set_ticks_position('left')\n",
    "\n",
    "    for axis in [ax.xaxis, ax.yaxis]:\n",
    "        axis.set_tick_params(direction='out', color=SPINE_COLOR)\n",
    "\n",
    "    return ax\n",
    "\n",
    "latexify()"
   ]
  },
  {
   "cell_type": "markdown",
   "metadata": {},
   "source": [
    "# HBNN for 1d regression"
   ]
  },
  {
   "cell_type": "markdown",
   "metadata": {},
   "source": [
    "Predicting on the different Amplitudes"
   ]
  },
  {
   "cell_type": "code",
   "execution_count": 4,
   "metadata": {},
   "outputs": [],
   "source": [
    "def generate_data(num_samples, phase_shift = 0, frequency = 1, func = np.sin, amplitude = 1):\n",
    "    x = np.random.uniform(-5, 5, num_samples)\n",
    "    y =  amplitude*func(frequency*x + phase_shift)\n",
    "    return x, y\n",
    "n_samples = 50\n",
    "# context_points = list(range(10, n_samples + 1,10 ))\n",
    "context_points = [1,2,3,4,5, 10, 20, 30, 40, 45]\n",
    "amplitudes = [1, 2, 3, 5]\n",
    "\n",
    "# fixed points\n",
    "X_train_data, Y_train_data = [], []\n",
    "X_test_data, Y_test_data = [], []\n",
    "for i in range(len(amplitudes)):\n",
    "    xx, yy = generate_data(num_samples=n_samples, amplitude=amplitudes[i])\n",
    "    if i == len(amplitudes) - 1:\n",
    "        X_test_data = xx\n",
    "        Y_test_data = yy\n",
    "    else :\n",
    "        X_train_data.append(xx)\n",
    "        Y_train_data.append(yy)\n",
    "\n",
    "# different context\n",
    "contexts_x, contexts_y = [], []\n",
    "for contexts in context_points:\n",
    "    x_new = np.tile(X_test_data[: contexts], (n_samples//contexts +1))\n",
    "    y_new = np.tile(Y_test_data[: contexts], n_samples//contexts + 1)\n",
    "    x_new = x_new[: n_samples]\n",
    "    y_new = y_new[: n_samples]\n",
    "    contexts_x.append(x_new)\n",
    "    contexts_y.append(y_new)\n",
    "\n",
    "contexts_y = np.array(contexts_y)\n",
    "contexts_x = np.array(contexts_x)\n",
    "# X_test_data = np.linspace(-5, 5, n_samples)\n",
    "# Y_test_data = amplitudes[-1]*np.sin(X_test_data)\n",
    "X_train_data = np.array(X_train_data)\n",
    "Y_train_data = np.array(Y_train_data)\n",
    "X_test_data = np.array(X_test_data)\n",
    "Y_test_data = np.array(Y_test_data)\n"
   ]
  },
  {
   "cell_type": "code",
   "execution_count": 5,
   "metadata": {},
   "outputs": [
    {
     "data": {
      "text/plain": [
       "array([[ 2.63808058,  2.63808058,  2.63808058,  2.63808058,  2.63808058,\n",
       "         2.63808058,  2.63808058,  2.63808058,  2.63808058,  2.63808058,\n",
       "         2.63808058,  2.63808058,  2.63808058,  2.63808058,  2.63808058,\n",
       "         2.63808058,  2.63808058,  2.63808058,  2.63808058,  2.63808058,\n",
       "         2.63808058,  2.63808058,  2.63808058,  2.63808058,  2.63808058,\n",
       "         2.63808058,  2.63808058,  2.63808058,  2.63808058,  2.63808058,\n",
       "         2.63808058,  2.63808058,  2.63808058,  2.63808058,  2.63808058,\n",
       "         2.63808058,  2.63808058,  2.63808058,  2.63808058,  2.63808058,\n",
       "         2.63808058,  2.63808058,  2.63808058,  2.63808058,  2.63808058,\n",
       "         2.63808058,  2.63808058,  2.63808058,  2.63808058,  2.63808058],\n",
       "       [ 2.63808058, -2.82341374,  2.63808058, -2.82341374,  2.63808058,\n",
       "        -2.82341374,  2.63808058, -2.82341374,  2.63808058, -2.82341374,\n",
       "         2.63808058, -2.82341374,  2.63808058, -2.82341374,  2.63808058,\n",
       "        -2.82341374,  2.63808058, -2.82341374,  2.63808058, -2.82341374,\n",
       "         2.63808058, -2.82341374,  2.63808058, -2.82341374,  2.63808058,\n",
       "        -2.82341374,  2.63808058, -2.82341374,  2.63808058, -2.82341374,\n",
       "         2.63808058, -2.82341374,  2.63808058, -2.82341374,  2.63808058,\n",
       "        -2.82341374,  2.63808058, -2.82341374,  2.63808058, -2.82341374,\n",
       "         2.63808058, -2.82341374,  2.63808058, -2.82341374,  2.63808058,\n",
       "        -2.82341374,  2.63808058, -2.82341374,  2.63808058, -2.82341374],\n",
       "       [ 2.63808058, -2.82341374, -3.89305164,  2.63808058, -2.82341374,\n",
       "        -3.89305164,  2.63808058, -2.82341374, -3.89305164,  2.63808058,\n",
       "        -2.82341374, -3.89305164,  2.63808058, -2.82341374, -3.89305164,\n",
       "         2.63808058, -2.82341374, -3.89305164,  2.63808058, -2.82341374,\n",
       "        -3.89305164,  2.63808058, -2.82341374, -3.89305164,  2.63808058,\n",
       "        -2.82341374, -3.89305164,  2.63808058, -2.82341374, -3.89305164,\n",
       "         2.63808058, -2.82341374, -3.89305164,  2.63808058, -2.82341374,\n",
       "        -3.89305164,  2.63808058, -2.82341374, -3.89305164,  2.63808058,\n",
       "        -2.82341374, -3.89305164,  2.63808058, -2.82341374, -3.89305164,\n",
       "         2.63808058, -2.82341374, -3.89305164,  2.63808058, -2.82341374],\n",
       "       [ 2.63808058, -2.82341374, -3.89305164, -0.93389512,  2.63808058,\n",
       "        -2.82341374, -3.89305164, -0.93389512,  2.63808058, -2.82341374,\n",
       "        -3.89305164, -0.93389512,  2.63808058, -2.82341374, -3.89305164,\n",
       "        -0.93389512,  2.63808058, -2.82341374, -3.89305164, -0.93389512,\n",
       "         2.63808058, -2.82341374, -3.89305164, -0.93389512,  2.63808058,\n",
       "        -2.82341374, -3.89305164, -0.93389512,  2.63808058, -2.82341374,\n",
       "        -3.89305164, -0.93389512,  2.63808058, -2.82341374, -3.89305164,\n",
       "        -0.93389512,  2.63808058, -2.82341374, -3.89305164, -0.93389512,\n",
       "         2.63808058, -2.82341374, -3.89305164, -0.93389512,  2.63808058,\n",
       "        -2.82341374, -3.89305164, -0.93389512,  2.63808058, -2.82341374],\n",
       "       [ 2.63808058, -2.82341374, -3.89305164, -0.93389512,  3.33242389,\n",
       "         2.63808058, -2.82341374, -3.89305164, -0.93389512,  3.33242389,\n",
       "         2.63808058, -2.82341374, -3.89305164, -0.93389512,  3.33242389,\n",
       "         2.63808058, -2.82341374, -3.89305164, -0.93389512,  3.33242389,\n",
       "         2.63808058, -2.82341374, -3.89305164, -0.93389512,  3.33242389,\n",
       "         2.63808058, -2.82341374, -3.89305164, -0.93389512,  3.33242389,\n",
       "         2.63808058, -2.82341374, -3.89305164, -0.93389512,  3.33242389,\n",
       "         2.63808058, -2.82341374, -3.89305164, -0.93389512,  3.33242389,\n",
       "         2.63808058, -2.82341374, -3.89305164, -0.93389512,  3.33242389,\n",
       "         2.63808058, -2.82341374, -3.89305164, -0.93389512,  3.33242389],\n",
       "       [ 2.63808058, -2.82341374, -3.89305164, -0.93389512,  3.33242389,\n",
       "        -4.42833068, -2.89226134, -0.26668343,  0.97332838, -0.85895338,\n",
       "         2.63808058, -2.82341374, -3.89305164, -0.93389512,  3.33242389,\n",
       "        -4.42833068, -2.89226134, -0.26668343,  0.97332838, -0.85895338,\n",
       "         2.63808058, -2.82341374, -3.89305164, -0.93389512,  3.33242389,\n",
       "        -4.42833068, -2.89226134, -0.26668343,  0.97332838, -0.85895338,\n",
       "         2.63808058, -2.82341374, -3.89305164, -0.93389512,  3.33242389,\n",
       "        -4.42833068, -2.89226134, -0.26668343,  0.97332838, -0.85895338,\n",
       "         2.63808058, -2.82341374, -3.89305164, -0.93389512,  3.33242389,\n",
       "        -4.42833068, -2.89226134, -0.26668343,  0.97332838, -0.85895338],\n",
       "       [ 2.63808058, -2.82341374, -3.89305164, -0.93389512,  3.33242389,\n",
       "        -4.42833068, -2.89226134, -0.26668343,  0.97332838, -0.85895338,\n",
       "        -1.4821956 ,  4.6472043 ,  3.48029591, -2.39955633,  2.212126  ,\n",
       "         2.62016905, -1.01132283, -3.02032955,  0.79826002,  3.32711634,\n",
       "         2.63808058, -2.82341374, -3.89305164, -0.93389512,  3.33242389,\n",
       "        -4.42833068, -2.89226134, -0.26668343,  0.97332838, -0.85895338,\n",
       "        -1.4821956 ,  4.6472043 ,  3.48029591, -2.39955633,  2.212126  ,\n",
       "         2.62016905, -1.01132283, -3.02032955,  0.79826002,  3.32711634,\n",
       "         2.63808058, -2.82341374, -3.89305164, -0.93389512,  3.33242389,\n",
       "        -4.42833068, -2.89226134, -0.26668343,  0.97332838, -0.85895338],\n",
       "       [ 2.63808058, -2.82341374, -3.89305164, -0.93389512,  3.33242389,\n",
       "        -4.42833068, -2.89226134, -0.26668343,  0.97332838, -0.85895338,\n",
       "        -1.4821956 ,  4.6472043 ,  3.48029591, -2.39955633,  2.212126  ,\n",
       "         2.62016905, -1.01132283, -3.02032955,  0.79826002,  3.32711634,\n",
       "        -2.10329681,  3.20655436, -0.02244554,  4.95390199, -3.01514811,\n",
       "         0.42286672,  3.48325888,  1.27499075, -4.03770098,  3.3009233 ,\n",
       "         2.63808058, -2.82341374, -3.89305164, -0.93389512,  3.33242389,\n",
       "        -4.42833068, -2.89226134, -0.26668343,  0.97332838, -0.85895338,\n",
       "        -1.4821956 ,  4.6472043 ,  3.48029591, -2.39955633,  2.212126  ,\n",
       "         2.62016905, -1.01132283, -3.02032955,  0.79826002,  3.32711634],\n",
       "       [ 2.63808058, -2.82341374, -3.89305164, -0.93389512,  3.33242389,\n",
       "        -4.42833068, -2.89226134, -0.26668343,  0.97332838, -0.85895338,\n",
       "        -1.4821956 ,  4.6472043 ,  3.48029591, -2.39955633,  2.212126  ,\n",
       "         2.62016905, -1.01132283, -3.02032955,  0.79826002,  3.32711634,\n",
       "        -2.10329681,  3.20655436, -0.02244554,  4.95390199, -3.01514811,\n",
       "         0.42286672,  3.48325888,  1.27499075, -4.03770098,  3.3009233 ,\n",
       "         0.30045765, -1.65223294,  2.24500877, -4.8048663 , -1.7698551 ,\n",
       "         1.20753852, -4.94950994,  3.20058782,  4.66951039, -3.045782  ,\n",
       "         2.63808058, -2.82341374, -3.89305164, -0.93389512,  3.33242389,\n",
       "        -4.42833068, -2.89226134, -0.26668343,  0.97332838, -0.85895338],\n",
       "       [ 2.63808058, -2.82341374, -3.89305164, -0.93389512,  3.33242389,\n",
       "        -4.42833068, -2.89226134, -0.26668343,  0.97332838, -0.85895338,\n",
       "        -1.4821956 ,  4.6472043 ,  3.48029591, -2.39955633,  2.212126  ,\n",
       "         2.62016905, -1.01132283, -3.02032955,  0.79826002,  3.32711634,\n",
       "        -2.10329681,  3.20655436, -0.02244554,  4.95390199, -3.01514811,\n",
       "         0.42286672,  3.48325888,  1.27499075, -4.03770098,  3.3009233 ,\n",
       "         0.30045765, -1.65223294,  2.24500877, -4.8048663 , -1.7698551 ,\n",
       "         1.20753852, -4.94950994,  3.20058782,  4.66951039, -3.045782  ,\n",
       "         2.06321051,  0.7650524 , -0.36003271,  1.28693208, -2.56698486,\n",
       "         2.63808058, -2.82341374, -3.89305164, -0.93389512,  3.33242389]])"
      ]
     },
     "execution_count": 5,
     "metadata": {},
     "output_type": "execute_result"
    }
   ],
   "source": [
    "contexts_x"
   ]
  },
  {
   "cell_type": "code",
   "execution_count": 6,
   "metadata": {},
   "outputs": [
    {
     "data": {
      "text/plain": [
       "((10, 50), (10, 50), (50,), (50,), (3, 50), (3, 50))"
      ]
     },
     "execution_count": 6,
     "metadata": {},
     "output_type": "execute_result"
    }
   ],
   "source": [
    "contexts_x.shape, contexts_y.shape, X_test_data.shape, Y_test_data.shape, X_train_data.shape, Y_train_data.shape\n"
   ]
  },
  {
   "cell_type": "code",
   "execution_count": 7,
   "metadata": {},
   "outputs": [],
   "source": [
    "def hierarchical_nn(X, Y, D_H):\n",
    "    # print(f\"X shape\", X.shape)\n",
    "    D_Y = 1 # output dim\n",
    "    D_C = 4 # different tasks\n",
    "    D_X = 1 # input dimensions\n",
    "\n",
    "    # print(X.shape)\n",
    "    # Group mean distribution for input to hidden layer\n",
    "    mu_1 = numpyro.sample(\"mu_1\", dist.Normal(jnp.zeros((D_X, D_H)), jnp.ones((D_X, D_H))))  # D_X D_H\n",
    "    # Group standard-deviation\n",
    "    sigma_1 = numpyro.sample(\"sigma_1\", dist.HalfNormal(1.0))\n",
    "\n",
    "    # sample second layer\n",
    "    mu_2 = numpyro.sample(\"mu_2\", dist.Normal(jnp.zeros((D_H, D_H)), jnp.ones((D_H, D_H))))  # D_H D_H\n",
    "    sigma_2 = numpyro.sample(\"sigma_2\", dist.HalfNormal(1.0))\n",
    "\n",
    "    # sample final layer of weights and neural network output\n",
    "    mu_3 = numpyro.sample(\"mu_3\", dist.Normal(jnp.zeros((D_H, D_Y)), jnp.ones((D_H, D_Y))))  # D_H D_Y\n",
    "    sigma_3 = numpyro.sample(\"sigma_3\", dist.HalfNormal(1.0))\n",
    "\n",
    "    # print(f\"shpae mu 1, 2, 3 {mu_1.shape, mu_2.shape, mu_3.shape}\")\n",
    "    # print(f\"shape sigma 1,2,3, { sigma_1.shape, sigma_2.shape, sigma_3.shape}\")\n",
    "\n",
    "    w1_all = numpyro.sample(\"w1_all\", dist.Normal(jnp.zeros((D_C, D_X, D_H)), jnp.ones((D_C, D_X, D_H))))  # D_C D_X D_H\n",
    "    w2_all = numpyro.sample(\"w2_all\", dist.Normal(jnp.zeros((D_C, D_H, D_H)), jnp.ones((D_C, D_H, D_H))))  # D_C D_H D_H\n",
    "    w3_all = numpyro.sample(\"w3_all\", dist.Normal(jnp.zeros((D_C, D_H, D_Y)), jnp.ones((D_C, D_H, D_Y))))  # D_C D_H D_Y\n",
    "\n",
    "    w1 = w1_all * sigma_1 + mu_1\n",
    "    w2 = w2_all * sigma_2 + mu_2\n",
    "    w3 = w3_all * sigma_3+ mu_3\n",
    "    # print(f\"shape - w1 w2 w3 {w1.shape, w2.shape, w3.shape}\") # w1 shape = D_C * D_X * D_H\n",
    "    # print(f\"shape - X {X.shape}\") X shape D_C * D_X * D_H\n",
    "    X = X.reshape(D_C, -1, D_X)\n",
    "    z1 = jnp.tanh(jnp.matmul(X, w1))  # D_C N D_H  <= first layer of activations\n",
    "    z2 = jnp.tanh(jnp.matmul(z1, w2))  # D_C N D_H  <= second layer of activations\n",
    "    z3 = jnp.matmul(z2, w3)  # D_C N D_Y  <= output of the neural network \n",
    "    # print(f\"shape z 1, 2, 3 {z1.shape, z2.shape, z3.shape}\")\n",
    "    sigma = numpyro.sample(\"sigma\", dist.HalfNormal(1))\n",
    "    Y = numpyro.sample(\"Y\", dist.Normal(z3, sigma), obs=Y.reshape((D_C, -1, 1)) if Y is not None else Y)"
   ]
  },
  {
   "cell_type": "code",
   "execution_count": 8,
   "metadata": {},
   "outputs": [],
   "source": [
    "def run_inference(model, rng_key, args, **kwargs):\n",
    "    kernel = NUTS(model)\n",
    "    mcmc = MCMC(\n",
    "        kernel,\n",
    "        num_warmup=args[\"num_warmup\"],\n",
    "        num_samples=args[\"num_samples\"],\n",
    "        num_chains=args[\"num_chains\"],\n",
    "        progress_bar=True,\n",
    "    )\n",
    "    mcmc.run(rng_key, **kwargs)\n",
    "    return mcmc\n",
    "\n",
    "def get_predictions(model, rng_key, samples, X, D_H, args, bnn_kwargs):\n",
    "    # helper function for prediction\n",
    "    def predict(model, rng_key, samples, X, D_H, bnn_kwargs):\n",
    "        model = handlers.substitute(handlers.seed(model, rng_key), samples)\n",
    "        # note that Y will be sampled in the model because we pass Y=None here\n",
    "        model_trace = (\n",
    "            handlers.trace(model).get_trace(X=X, Y=None, D_H=D_H)\n",
    "            if bnn_kwargs is None\n",
    "            else handlers.trace(model).get_trace(X=X, Y=None, D_H=D_H, **bnn_kwargs)\n",
    "        )\n",
    "\n",
    "        return model_trace[\"Y\"][\"value\"]\n",
    "\n",
    "    # predict Y at inputs X\n",
    "    vmap_args = (samples, random.split(rng_key, args[\"num_samples\"] * args[\"num_chains\"]))\n",
    "    predictions = vmap(lambda samples, rng_key: predict(model, rng_key, samples, X, D_H, bnn_kwargs))(*vmap_args)\n",
    "    return predictions\n",
    "\n",
    "def get_mean_predictions(predictions):\n",
    "    predictions = predictions[..., 0] # making it dimension num_sample * D_C * points\n",
    "    # compute mean prediction and confidence interval around median\n",
    "    mean_prediction = jnp.mean(predictions, axis=0)\n",
    "    return mean_prediction \n",
    "\n",
    "def get_std_predictions(predictions):\n",
    "    predictions = predictions[..., 0]\n",
    "    std = jnp.std(predictions, axis=0)\n",
    "    return std\n",
    "\n",
    "\n",
    "\n",
    "def fit_and_eval(model, X_train, X_test, Y_train, Y_test, D_H, args, bnn_kwargs=None):\n",
    "    # values to be returned\n",
    "    pred_train, pred_test, pred_grid = [], [], []\n",
    "\n",
    "    # do inference\n",
    "    kwargs = {\"X\": X_train, \"Y\": Y_train, \"D_H\": D_H}\n",
    "    if bnn_kwargs:\n",
    "        kwargs = {**kwargs, **bnn_kwargs}\n",
    "\n",
    "    rng_key, rng_key_train, rng_key_test, rng_key_grid = random.split(random.PRNGKey(0), 4)\n",
    "    mcmc = run_inference(model, rng_key, args, **kwargs)\n",
    "    samples = mcmc.get_samples()\n",
    "    # # predict Y_train and Y_test at inputs X_traind and X_test, respectively\n",
    "    predictions = get_predictions(model, rng_key_train, samples, X_train, D_H, args, bnn_kwargs)\n",
    "    mean_prediction = get_mean_predictions(predictions)\n",
    "    pred_train = mean_prediction\n",
    "\n",
    "    predictions = get_predictions(model, rng_key_test, samples, X_test, D_H, args, bnn_kwargs)\n",
    "    # print(f\"Prediction test {predictions.shape}\")\n",
    "    mean_prediction = get_mean_predictions(predictions)\n",
    "    # print(f\"Mean Test Predictions {mean_prediction.shape}\")\n",
    "    pred_test = mean_prediction\n",
    "\n",
    "    std_pred_test = get_std_predictions(predictions)\n",
    "    \n",
    "    # pred_train = []\n",
    "    # pred_test = []\n",
    "    return pred_train, pred_test,  std_pred_test, mcmc\n"
   ]
  },
  {
   "cell_type": "code",
   "execution_count": 26,
   "metadata": {},
   "outputs": [
    {
     "name": "stdout",
     "output_type": "stream",
     "text": [
      "shape - X_test, X_train Y_test, Y_train ((4, 50), (4, 50), (4, 50), (4, 50))\n"
     ]
    },
    {
     "name": "stderr",
     "output_type": "stream",
     "text": [
      "sample: 100%|██████████| 150/150 [00:03<00:00, 37.92it/s, 1023 steps of size 6.78e-04. acc. prob=0.75]\n",
      "sample: 100%|██████████| 150/150 [00:01<00:00, 103.22it/s, 358 steps of size 3.56e-04. acc. prob=0.56]\n"
     ]
    },
    {
     "name": "stdout",
     "output_type": "stream",
     "text": [
      "context points: 1 mse: 14.627890456696116\n",
      "shape - X_test, X_train Y_test, Y_train ((4, 50), (4, 50), (4, 50), (4, 50))\n"
     ]
    },
    {
     "name": "stderr",
     "output_type": "stream",
     "text": [
      "sample: 100%|██████████| 150/150 [00:04<00:00, 37.25it/s, 1023 steps of size 3.05e-04. acc. prob=0.96]\n",
      "sample: 100%|██████████| 150/150 [00:01<00:00, 82.96it/s, 1023 steps of size 4.80e-04. acc. prob=0.96]\n"
     ]
    },
    {
     "name": "stdout",
     "output_type": "stream",
     "text": [
      "context points: 2 mse: 3.021702904665357\n",
      "shape - X_test, X_train Y_test, Y_train ((4, 50), (4, 50), (4, 50), (4, 50))\n"
     ]
    },
    {
     "name": "stderr",
     "output_type": "stream",
     "text": [
      "sample: 100%|██████████| 150/150 [00:03<00:00, 40.40it/s, 1023 steps of size 4.55e-04. acc. prob=0.96]\n",
      "sample: 100%|██████████| 150/150 [00:01<00:00, 95.75it/s, 359 steps of size 4.22e-04. acc. prob=0.61] \n"
     ]
    },
    {
     "name": "stdout",
     "output_type": "stream",
     "text": [
      "context points: 3 mse: 1.0067013025981237\n",
      "shape - X_test, X_train Y_test, Y_train ((4, 50), (4, 50), (4, 50), (4, 50))\n"
     ]
    },
    {
     "name": "stderr",
     "output_type": "stream",
     "text": [
      "sample: 100%|██████████| 150/150 [00:03<00:00, 44.58it/s, 223 steps of size 1.09e-03. acc. prob=0.45] \n",
      "sample: 100%|██████████| 150/150 [00:01<00:00, 83.26it/s, 1023 steps of size 5.31e-04. acc. prob=0.94]\n"
     ]
    },
    {
     "name": "stdout",
     "output_type": "stream",
     "text": [
      "context points: 4 mse: 0.33092728251174436\n",
      "shape - X_test, X_train Y_test, Y_train ((4, 50), (4, 50), (4, 50), (4, 50))\n"
     ]
    },
    {
     "name": "stderr",
     "output_type": "stream",
     "text": [
      "sample: 100%|██████████| 150/150 [00:03<00:00, 43.13it/s, 115 steps of size 1.94e-03. acc. prob=0.63] \n",
      "sample: 100%|██████████| 150/150 [00:01<00:00, 85.41it/s, 1023 steps of size 6.84e-04. acc. prob=0.84]\n"
     ]
    },
    {
     "name": "stdout",
     "output_type": "stream",
     "text": [
      "context points: 5 mse: 0.06651795674815233\n",
      "shape - X_test, X_train Y_test, Y_train ((4, 50), (4, 50), (4, 50), (4, 50))\n"
     ]
    },
    {
     "name": "stderr",
     "output_type": "stream",
     "text": [
      "sample: 100%|██████████| 150/150 [00:03<00:00, 39.66it/s, 1023 steps of size 4.86e-04. acc. prob=0.88]\n",
      "sample: 100%|██████████| 150/150 [00:01<00:00, 83.67it/s, 1023 steps of size 1.11e-03. acc. prob=0.85]\n"
     ]
    },
    {
     "name": "stdout",
     "output_type": "stream",
     "text": [
      "context points: 10 mse: 0.03262902869682448\n",
      "shape - X_test, X_train Y_test, Y_train ((4, 50), (4, 50), (4, 50), (4, 50))\n"
     ]
    },
    {
     "name": "stderr",
     "output_type": "stream",
     "text": [
      "sample: 100%|██████████| 150/150 [00:03<00:00, 46.72it/s, 106 steps of size 1.46e-03. acc. prob=0.39] \n",
      "sample: 100%|██████████| 150/150 [00:01<00:00, 93.47it/s, 1023 steps of size 1.04e-03. acc. prob=0.56]\n"
     ]
    },
    {
     "name": "stdout",
     "output_type": "stream",
     "text": [
      "context points: 20 mse: 0.013311488733051234\n",
      "shape - X_test, X_train Y_test, Y_train ((4, 50), (4, 50), (4, 50), (4, 50))\n"
     ]
    },
    {
     "name": "stderr",
     "output_type": "stream",
     "text": [
      "sample: 100%|██████████| 150/150 [00:03<00:00, 40.64it/s, 1023 steps of size 6.01e-04. acc. prob=0.89]\n",
      "sample: 100%|██████████| 150/150 [00:01<00:00, 98.91it/s, 265 steps of size 7.53e-04. acc. prob=0.60] \n"
     ]
    },
    {
     "name": "stdout",
     "output_type": "stream",
     "text": [
      "context points: 30 mse: 0.002721781122598174\n",
      "shape - X_test, X_train Y_test, Y_train ((4, 50), (4, 50), (4, 50), (4, 50))\n"
     ]
    },
    {
     "name": "stderr",
     "output_type": "stream",
     "text": [
      "sample: 100%|██████████| 150/150 [00:03<00:00, 43.12it/s, 67 steps of size 1.13e-03. acc. prob=0.48]  \n",
      "sample: 100%|██████████| 150/150 [00:01<00:00, 109.14it/s, 229 steps of size 1.21e-03. acc. prob=0.47]\n"
     ]
    },
    {
     "name": "stdout",
     "output_type": "stream",
     "text": [
      "context points: 40 mse: 0.0017314751637655308\n",
      "shape - X_test, X_train Y_test, Y_train ((4, 50), (4, 50), (4, 50), (4, 50))\n"
     ]
    },
    {
     "name": "stderr",
     "output_type": "stream",
     "text": [
      "sample: 100%|██████████| 150/150 [00:04<00:00, 35.71it/s, 1023 steps of size 5.72e-04. acc. prob=0.91]\n",
      "sample: 100%|██████████| 150/150 [00:01<00:00, 86.07it/s, 372 steps of size 1.00e-03. acc. prob=0.84] \n"
     ]
    },
    {
     "name": "stdout",
     "output_type": "stream",
     "text": [
      "context points: 45 mse: 0.002177643944838161\n"
     ]
    },
    {
     "data": {
      "image/png": "[encoded data removed]",
      "text/plain": [
       "<Figure size 320x700 with 10 Axes>"
      ]
     },
     "metadata": {},
     "output_type": "display_data"
    }
   ],
   "source": [
    "D_H = 5\n",
    "args = {\"num_samples\": 50, \"num_chains\": 2, \"num_warmup\": 100}\n",
    "\n",
    "mse_list_hbnn_medium = []\n",
    "\n",
    "fig, axs = plt.subplots(figsize=(3.2, 7), nrows=5, ncols=2, sharex=True, sharey=True)\n",
    "axs = axs.flatten()\n",
    "for i in range(len(context_points)):\n",
    "    X_train = np.concatenate( (X_train_data, contexts_x[i].reshape(1, n_samples)), axis=0)\n",
    "    Y_train = np.concatenate((Y_train_data, contexts_y[i].reshape(1, n_samples)) , axis = 0)\n",
    "    X_test = np.concatenate((X_train_data, X_test_data.reshape(1, n_samples) ), axis = 0)\n",
    "    Y_test = np.concatenate((Y_train_data, Y_test_data.reshape(1, n_samples)), axis = 0)\n",
    "\n",
    "    print(f\"shape - X_test, X_train Y_test, Y_train {X_test.shape, X_train.shape, Y_test.shape, Y_train.shape}\")\n",
    "    # print(X_train[-1][: 10])\n",
    "\n",
    "    Y_hierarchical_pred_train, Y_hierarchical_pred_test, std_pred_test, mcmc_hier = fit_and_eval(hierarchical_nn, X_train, X_test, Y_train, Y_test, D_H, args )\n",
    "    # print(f\"std_pred_test shape: {std_pred_test.shape}\")\n",
    "    # print(Y_hierarchical_pred_test.shape)\n",
    "    test_error = mean_squared_error(Y_test[-1], Y_hierarchical_pred_test[-1])\n",
    "    mse_list_hbnn_medium.append(test_error)\n",
    "    print(f\"context points: {context_points[i]} mse: {test_error}\")\n",
    "    lb = Y_hierarchical_pred_test[-1] - std_pred_test[-1]\n",
    "    ub = Y_hierarchical_pred_test[-1] + std_pred_test[-1]\n",
    "    # print(f\"shape lb, up: {lb.shape, ub.shape}\")\n",
    "    # print(f\"lb {lb}\\n ub {ub}\")\n",
    "    axs[i].scatter(X_test[-1], Y_test[-1], label = 'Ground Truth',color = 'b', s = 5)\n",
    "    axs[i].scatter(X_test[-1],Y_hierarchical_pred_test[-1], label = 'Prediction',color = 'g', s = 2)\n",
    "    axs[i].scatter(X_train[-1], Y_train[-1], label = 'Context Points',color = 'r', s = 1)\n",
    "    ft = np.concatenate((X_test[-1].reshape(50, 1), ub.reshape(50,1), lb.reshape(50,1)), axis = 1)\n",
    "    ft = ft[ft[:, 0].argsort()]\n",
    "    axs[i].fill_between(ft[:, 0], ft[:,1], ft[:, 2], alpha = 0.5, color = 'g')\n",
    "    axs[i].set_title(f\"Context = {context_points[i]}\")\n",
    "    # break\n",
    "    # break\n",
    "fig.legend(loc='upper center', labels=['Ground Truth', 'Prediction', 'Context Points'], bbox_to_anchor=(0.5, 0.04))\n",
    "plt.tight_layout()\n",
    "plt.savefig(\"plots/sin_hbnn_medium_4amp.pdf\", format=\"pdf\", bbox_inches=\"tight\")\n",
    "plt.show()"
   ]
  },
  {
   "cell_type": "code",
   "execution_count": 27,
   "metadata": {},
   "outputs": [
    {
     "data": {
      "image/png": "[encoded data removed]",
      "text/plain": [
       "<Figure size 339x209.514 with 1 Axes>"
      ]
     },
     "metadata": {},
     "output_type": "display_data"
    }
   ],
   "source": [
    "fig, ax = plt.subplots()  # Width = 3*5 inches, Height = 5 inches\n",
    "plt.plot(context_points, np.log( np.array(mse_list_hbnn_medium)))\n",
    "plt.title(\"MSE v/s Context\")\n",
    "plt.xlabel(\"Context\")\n",
    "plt.ylabel(\"MSE (log)\")\n",
    "ax.tick_params(axis='both', which='both', labelsize=8)\n",
    "plt.savefig(\"plots/sin_hbnn_performance_medium.pdf\", format=\"pdf\", bbox_inches=\"tight\")\n",
    "plt.show()"
   ]
  },
  {
   "cell_type": "markdown",
   "metadata": {},
   "source": [
    "# CNP on the same data"
   ]
  },
  {
   "cell_type": "code",
   "execution_count": null,
   "metadata": {},
   "outputs": [],
   "source": [
    "import torch.nn as nn\n",
    "import torch.nn.functional as F\n",
    "import torch\n",
    "\n",
    "\n",
    "class Encoder(nn.Module):\n",
    "    def __init__(self, layout, activation = torch.relu):\n",
    "        super(Encoder, self).__init__()\n",
    "        self.layers = nn.ModuleList()\n",
    "        self.activation = activation\n",
    "        for i in range(len(layout)):\n",
    "            self.layers.append(nn.Linear(layout[i][0], layout[i][1]))\n",
    "\n",
    "    def forward(self, x):\n",
    "        for layer in self.layers[: -1]:\n",
    "            x = self.activation(layer(x))\n",
    "        x = self.layers[-1](x)\n",
    "        return x\n",
    "\n",
    "class Decoder(nn.Module):\n",
    "    def __init__(self, layout, activation):\n",
    "        super(Decoder, self).__init__()\n",
    "        self.layers = nn.ModuleList()\n",
    "        self.activation = activation\n",
    "        for i in range(len(layout)):\n",
    "            self.layers.append(nn.Linear(layout[i][0], layout[i][1]))\n",
    "\n",
    "        \n",
    "    def forward(self, x):\n",
    "        for layer in self.layers[: -1]:\n",
    "            x = self.activation(layer(x))\n",
    "        x = self.layers[-1](x)\n",
    "        return x\n",
    "\n",
    "class Aggregator(nn.Module):\n",
    "    def __init__(self):\n",
    "        super(Aggregator, self).__init__()\n",
    "        \n",
    "    def forward(self, x):\n",
    "        return torch.mean(x, dim=0)\n",
    "\n",
    "class CNP(nn.Module):\n",
    "    def __init__(self, layout_encoder, layout_decoder, activation):\n",
    "        super(CNP, self).__init__()\n",
    "        self.encoder = Encoder(layout_encoder, activation)\n",
    "        self.decoder = Decoder(layout_decoder, activation)\n",
    "        self.aggregator = Aggregator()\n",
    "        \n",
    "    def forward(self, contextx, contexty, targetx):\n",
    "        context = torch.cat([contextx, contexty], dim=1)\n",
    "        encoded_context = self.encoder(context)\n",
    "        aggregated = self.aggregator(encoded_context)\n",
    "        decoder_input = torch.cat([aggregated.unsqueeze(0).expand(len(targetx),-1), targetx.view(-1, contextx.shape[1])], dim=1)\n",
    "        output = self.decoder(decoder_input)\n",
    "        return output\n",
    "\n"
   ]
  },
  {
   "cell_type": "code",
   "execution_count": null,
   "metadata": {},
   "outputs": [
    {
     "data": {
      "text/plain": [
       "((10, 50), (10, 50), (50,), (50,), (3, 50), (3, 50))"
      ]
     },
     "execution_count": 296,
     "metadata": {},
     "output_type": "execute_result"
    }
   ],
   "source": [
    "contexts_x.shape, contexts_y.shape, X_test_data.shape, Y_test_data.shape, X_train_data.shape, Y_train_data.shape\n"
   ]
  },
  {
   "cell_type": "code",
   "execution_count": null,
   "metadata": {},
   "outputs": [
    {
     "name": "stdout",
     "output_type": "stream",
     "text": [
      "(4, 50) (4, 50) (4, 50) (4, 50)\n"
     ]
    },
    {
     "name": "stderr",
     "output_type": "stream",
     "text": [
      "100%|██████████| 1000/1000 [00:01<00:00, 589.21it/s]\n"
     ]
    },
    {
     "name": "stdout",
     "output_type": "stream",
     "text": [
      "35.76475463714187\n",
      "(4, 50) (4, 50) (4, 50) (4, 50)\n"
     ]
    },
    {
     "name": "stderr",
     "output_type": "stream",
     "text": [
      "100%|██████████| 1000/1000 [00:01<00:00, 583.12it/s]\n"
     ]
    },
    {
     "name": "stdout",
     "output_type": "stream",
     "text": [
      "10.552198251993016\n",
      "(4, 50) (4, 50) (4, 50) (4, 50)\n"
     ]
    },
    {
     "name": "stderr",
     "output_type": "stream",
     "text": [
      "100%|██████████| 1000/1000 [00:01<00:00, 638.74it/s]\n"
     ]
    },
    {
     "name": "stdout",
     "output_type": "stream",
     "text": [
      "5.312669685175468\n",
      "(4, 50) (4, 50) (4, 50) (4, 50)\n"
     ]
    },
    {
     "name": "stderr",
     "output_type": "stream",
     "text": [
      "100%|██████████| 1000/1000 [00:01<00:00, 681.71it/s]\n"
     ]
    },
    {
     "name": "stdout",
     "output_type": "stream",
     "text": [
      "2.416224106672084\n",
      "(4, 50) (4, 50) (4, 50) (4, 50)\n"
     ]
    },
    {
     "name": "stderr",
     "output_type": "stream",
     "text": [
      "100%|██████████| 1000/1000 [00:01<00:00, 636.14it/s]\n"
     ]
    },
    {
     "name": "stdout",
     "output_type": "stream",
     "text": [
      "0.9929691400786258\n",
      "(4, 50) (4, 50) (4, 50) (4, 50)\n"
     ]
    },
    {
     "name": "stderr",
     "output_type": "stream",
     "text": [
      "100%|██████████| 1000/1000 [00:01<00:00, 692.61it/s]\n"
     ]
    },
    {
     "name": "stdout",
     "output_type": "stream",
     "text": [
      "0.6692767185524267\n",
      "(4, 50) (4, 50) (4, 50) (4, 50)\n"
     ]
    },
    {
     "name": "stderr",
     "output_type": "stream",
     "text": [
      "100%|██████████| 1000/1000 [00:01<00:00, 694.67it/s]\n"
     ]
    },
    {
     "name": "stdout",
     "output_type": "stream",
     "text": [
      "0.2578802878737103\n",
      "(4, 50) (4, 50) (4, 50) (4, 50)\n"
     ]
    },
    {
     "name": "stderr",
     "output_type": "stream",
     "text": [
      "100%|██████████| 1000/1000 [00:01<00:00, 687.21it/s]\n"
     ]
    },
    {
     "name": "stdout",
     "output_type": "stream",
     "text": [
      "0.15865758555590062\n",
      "(4, 50) (4, 50) (4, 50) (4, 50)\n"
     ]
    },
    {
     "name": "stderr",
     "output_type": "stream",
     "text": [
      "100%|██████████| 1000/1000 [00:01<00:00, 672.88it/s]\n"
     ]
    },
    {
     "name": "stdout",
     "output_type": "stream",
     "text": [
      "0.1591281770671503\n",
      "(4, 50) (4, 50) (4, 50) (4, 50)\n"
     ]
    },
    {
     "name": "stderr",
     "output_type": "stream",
     "text": [
      "100%|██████████| 1000/1000 [00:01<00:00, 687.11it/s]\n"
     ]
    },
    {
     "name": "stdout",
     "output_type": "stream",
     "text": [
      "0.07818077109361124\n"
     ]
    },
    {
     "data": {
      "image/png": "[encoded data removed]",
      "text/plain": [
       "<Figure size 320x700 with 10 Axes>"
      ]
     },
     "metadata": {},
     "output_type": "display_data"
    }
   ],
   "source": [
    "import torch.optim as optim\n",
    "from sklearn.metrics import mean_squared_error\n",
    "from tqdm import tqdm\n",
    "\n",
    "def train_cnp_1d(X_train, Y_train, num_contexts, num_epochs = 1000, num_samples = 50,  context_size = 10, target_size= 30):\n",
    "    # CNP model\n",
    "    encoder_layout = [[2, 256], [256, 256], [256, 256], [256, 128]]\n",
    "    decoder_layout = [[129, 256], [256, 256], [256, 256], [256, 1]]\n",
    "    model = CNP(encoder_layout, decoder_layout, torch.relu)\n",
    "\n",
    "\n",
    "    criterion = nn.MSELoss()\n",
    "    optimizer = optim.Adam(model.parameters(), lr=0.001)\n",
    "    losses = []\n",
    "    \n",
    "    for epoch in tqdm(range(num_epochs)):\n",
    "        context=np.random.choice(num_samples, context_size, replace=False)\n",
    "        target=np.random.choice(num_samples, target_size, replace=False)\n",
    "        train_set=np.random.randint(0, 4)\n",
    "\n",
    "        if train_set == 3:\n",
    "            # ind = np.random.randint(0, num_contexts)\n",
    "            context = np.random.choice(num_contexts, min(context_size, num_contexts), replace= False)\n",
    "            target = np.random.choice(num_contexts, min(context_size, num_contexts), replace = False)\n",
    "\n",
    "\n",
    "        target_x = X_train[train_set][target]\n",
    "        target_y = Y_train[train_set][target]\n",
    "        context_x_ = X_train[train_set][context]\n",
    "        context_y_ = Y_train[train_set][context]\n",
    "\n",
    "\n",
    "        context_x_ = torch.tensor(context_x_, dtype=torch.float32).view(-1 ,1)\n",
    "        context_y_ = torch.tensor(context_y_, dtype=torch.float32).view(-1, 1)\n",
    "        target_x = torch.tensor(target_x, dtype=torch.float32).view(-1,1)\n",
    "        target_y = torch.tensor(target_y, dtype=torch.float32).view(-1, 1)\n",
    "\n",
    "        # training the model with back propagation\n",
    "        model.train()\n",
    "        optimizer.zero_grad()\n",
    "        predictions = model(context_x_, context_y_, target_x)\n",
    "        # print(f\"shape -> predictions {predictions.shape} target_y {target_y.shape}\")\n",
    "        loss = criterion(predictions, target_y.view(-1, 1))\n",
    "        loss.backward()\n",
    "        optimizer.step()\n",
    "        # print(f\"Epoch [{epoch+1}/{num_epochs}], Loss: {loss.item():.4f}\")\n",
    "        if epoch % 10 == 0 :\n",
    "            losses.append(loss.item())\n",
    "\n",
    "        # print(f\"Epoch [{epoch+1}/{num_epochs}], Loss: {loss.item():.4f}\")\n",
    "    # plt.plot(np.arange(num_epochs), np.log(losses))\n",
    "    # plt.xlabel('Epochs')\n",
    "    # plt.ylabel(\"Loss (Log)\")\n",
    "    # plt.title(\"Loss vs Epoch\")\n",
    "    # plt.show()\n",
    "    return model\n",
    "\n",
    "def testing(model, context_x, context_y, X_test, context_size = 30, num_context = 10):\n",
    "    \n",
    "    target_x = X_test\n",
    "    # rand_points = np.random.choice(num_context, min(context_size, num_context), replace=False)\n",
    "    rand_points = np.random.choice(len(context_x), context_size, replace=False)\n",
    "    context_x = context_x[rand_points]\n",
    "    context_y = context_y[rand_points]\n",
    "\n",
    "\n",
    "    context_x = torch.tensor(context_x, dtype=torch.float32).view(-1, 1)\n",
    "    context_y = torch.tensor(context_y, dtype=torch.float32).view(-1, 1)\n",
    "    target_x = torch.tensor(target_x, dtype=torch.float32).view(-1, 1)\n",
    "\n",
    "    predictions = model(context_x, context_y, target_x)\n",
    "\n",
    "    predictions = predictions.detach().numpy()\n",
    "    # print(Y_test_data.shape, predictions.reshape(100).shape)\n",
    "\n",
    "\n",
    "    # grid_tensor = torch.tensor(grid, dtype=torch.float32).view(10000, 2)\n",
    "    # predictions_grid = model(context_x, context_y, grid_tensor)\n",
    "    # predictions_grid = predictions_grid.detach().numpy()\n",
    "\n",
    "\n",
    "    return predictions\n",
    "\n",
    "\n",
    "\n",
    "mse_lst_cnp = []\n",
    "fig, axs = plt.subplots(figsize=(3.2, 7), nrows=5, ncols=2, sharex=True, sharey=True)\n",
    "axs = axs.flatten()\n",
    "for i in range(len(context_points)):\n",
    "\n",
    "    X_train = np.concatenate( (X_train_data, contexts_x[i].reshape(1, n_samples)), axis=0)\n",
    "    Y_train = np.concatenate((Y_train_data, contexts_y[i].reshape(1, n_samples)) , axis = 0)\n",
    "    X_test = np.concatenate((X_train_data, X_test_data.reshape(1, n_samples) ), axis = 0)\n",
    "    Y_test = np.concatenate((Y_train_data, Y_test_data.reshape(1, n_samples)), axis = 0)\n",
    "\n",
    "\n",
    "    print(X_test.shape, X_train.shape, Y_test.shape, Y_train.shape)\n",
    "    # print(X_train[-1][: 10])\n",
    "\n",
    "    model = train_cnp_1d(X_train, Y_train, num_contexts=context_points[i] ,num_epochs=1000, num_samples=n_samples, context_size=n_samples//2, target_size=int(n_samples/1.2))\n",
    "    predictions = testing(model, contexts_x[i], contexts_y[i], X_test[-1], context_size= n_samples//3, num_context = context_points[i])\n",
    "    # print(f\"predictions {predictions.shape}, Y_test {Y_test[-1].shape}\")\n",
    "\n",
    "    mse = mean_squared_error(predictions, Y_test[-1])\n",
    "    print(mse)\n",
    "    mse_lst_cnp.append(mse)\n",
    "\n",
    "    axs[i].scatter(X_test[-1], Y_test[-1], label = 'Ground Truth',color = 'g', s = 5)\n",
    "    axs[i].scatter(X_test[-1],predictions, label = 'Prediction',color = 'b', s = 2)\n",
    "    axs[i].scatter(X_train[-1], Y_train[-1], label = 'Context Points',color = 'r', s = 1)\n",
    "    # axs[i].fill_between(X_test[-1], lb*5, ub*5, alpha = 0.7, color = 'y')\n",
    "    axs[i].set_title(f\"Context = {context_points[i]}\")\n",
    "\n",
    "\n",
    "\n",
    "\n",
    "    # axs[i].legend()\n",
    "# fig.suptitle('Angle {}'.format(angles[-1]), fontsize=7)\n",
    "# plt.subplots_adjust(wspace=0.20, hspace=0.40)\n",
    "fig.legend(loc='upper center', labels=['Ground Truth', 'Prediction', 'Context Points'], bbox_to_anchor=(0.5, 0.04))\n",
    "plt.tight_layout()\n",
    "plt.savefig(\"plots/cnp_compare_1d_regression.pdf\", format=\"pdf\", bbox_inches=\"tight\")\n",
    "plt.show()"
   ]
  },
  {
   "cell_type": "code",
   "execution_count": null,
   "metadata": {},
   "outputs": [
    {
     "data": {
      "image/png": "[encoded data removed]",
      "text/plain": [
       "<Figure size 339x209.514 with 1 Axes>"
      ]
     },
     "metadata": {},
     "output_type": "display_data"
    }
   ],
   "source": [
    "fig, ax = plt.subplots()  # Width = 3*5 inches, Height = 5 inches\n",
    "plt.plot(context_points, np.log( np.array(mse_lst_cnp)))\n",
    "plt.title(\"MSE v/s Context\")\n",
    "plt.xlabel(\"Context\")\n",
    "plt.ylabel(\"MSE (log)\")\n",
    "ax.tick_params(axis='both', which='both', labelsize=8)\n",
    "plt.savefig(\"plots/performance_CNP_1d_regression_compare.pdf\", format=\"pdf\", bbox_inches=\"tight\")\n",
    "plt.show()"
   ]
  }
 ],
 "metadata": {
  "kernelspec": {
   "display_name": ".venv",
   "language": "python",
   "name": "python3"
  },
  "language_info": {
   "codemirror_mode": {
    "name": "ipython",
    "version": 3
   },
   "file_extension": ".py",
   "mimetype": "text/x-python",
   "name": "python",
   "nbconvert_exporter": "python",
   "pygments_lexer": "ipython3",
   "version": "3.9.6"
  },
  "orig_nbformat": 4
 },
 "nbformat": 4,
 "nbformat_minor": 2
}
