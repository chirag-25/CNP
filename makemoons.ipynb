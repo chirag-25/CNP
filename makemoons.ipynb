{
 "cells": [
  {
   "cell_type": "code",
   "execution_count": 11,
   "metadata": {},
   "outputs": [],
   "source": [
    "\n",
    "import numpy as np\n",
    "import matplotlib.pyplot as plt\n",
    "import ipywidgets as widgets\n",
    "import torch\n",
    "import torch.optim as optim\n",
    "from tqdm import tqdm\n",
    "from sklearn.datasets import make_moons\n",
    "\n"
   ]
  },
  {
   "cell_type": "code",
   "execution_count": 13,
   "metadata": {},
   "outputs": [],
   "source": [
    "device = torch.device(\"cuda\" if torch.cuda.is_available() else \"cpu\")"
   ]
  },
  {
   "cell_type": "code",
   "execution_count": 14,
   "metadata": {},
   "outputs": [
    {
     "data": {
      "application/vnd.jupyter.widget-view+json": {
       "model_id": "a17dc149c5b144478edacb76f90777a9",
       "version_major": 2,
       "version_minor": 0
      },
      "text/plain": [
       "interactive(children=(IntSlider(value=100, description='num_sample', max=1000, min=100, step=50), FloatSlider(…"
      ]
     },
     "metadata": {},
     "output_type": "display_data"
    },
    {
     "data": {
      "text/plain": [
       "<function __main__.make_moon_dataset(num_sample=100, noise=0.15)>"
      ]
     },
     "execution_count": 14,
     "metadata": {},
     "output_type": "execute_result"
    }
   ],
   "source": [
    "\n",
    "def make_moon_dataset(num_sample = 100, noise = 0.15):\n",
    "    # Generate the moons dataset\n",
    "    X, y = make_moons(n_samples=num_sample, noise=noise, random_state=42)\n",
    "\n",
    "    # Plot the dataset\n",
    "    plt.scatter(X[:, 0], X[:, 1], c=y)\n",
    "    plt.xlabel(\"Feature 1\")\n",
    "    plt.ylabel(\"Feature 2\")\n",
    "    plt.title(\"Moons Dataset\")\n",
    "    \n",
    "widgets.interact(make_moon_dataset, num_sample = (100, 1000, 50), noise = (0.05, 1, 0.05))"
   ]
  },
  {
   "cell_type": "markdown",
   "metadata": {},
   "source": [
    "# Rotating the plot"
   ]
  },
  {
   "cell_type": "code",
   "execution_count": 15,
   "metadata": {},
   "outputs": [
    {
     "data": {
      "application/vnd.jupyter.widget-view+json": {
       "model_id": "40c30f0396f2495db4febc2b3cab8240",
       "version_major": 2,
       "version_minor": 0
      },
      "text/plain": [
       "interactive(children=(IntSlider(value=100, description='num_samples', max=1000, min=100, step=100), FloatSlide…"
      ]
     },
     "metadata": {},
     "output_type": "display_data"
    },
    {
     "data": {
      "text/plain": [
       "<function __main__.plot_rotated_moon_dataset(num_samples=100, noise=0, rotated_angle=0)>"
      ]
     },
     "execution_count": 15,
     "metadata": {},
     "output_type": "execute_result"
    }
   ],
   "source": [
    "\n",
    "# Function to rotate a dataset by a specified angle\n",
    "def rotate_dataset(X, angle_degrees):\n",
    "    # Convert angle from degrees to radians\n",
    "    angle_radians = np.radians(angle_degrees)\n",
    "    \n",
    "    # Create a rotation matrix\n",
    "    rotation_matrix = np.array([[np.cos(angle_radians), -np.sin(angle_radians)],\n",
    "                                 [np.sin(angle_radians), np.cos(angle_radians)]])\n",
    "    \n",
    "    # Apply the rotation to the dataset\n",
    "    rotated_X = X.dot(rotation_matrix)\n",
    "    \n",
    "    return rotated_X\n",
    "\n",
    "# List of angles in degrees by which to rotate the dataset\n",
    "\n",
    "def plot_rotated_moon_dataset(num_samples = 100, noise = 0, rotated_angle = 0):\n",
    "    X, y = make_moons(n_samples = num_samples, noise=noise, random_state=42)\n",
    "    rotated_X = rotate_dataset(X, rotated_angle)\n",
    "    plt.scatter(rotated_X[:, 0], rotated_X[:, 1], c = y, cmap=plt.cm.RdYlBu)\n",
    "    plt.xlabel(\"Feature 1\")\n",
    "    plt.ylabel(\"Feature 2\")\n",
    "    plt.title(f\"Rotation by {rotated_angle} degree\")\n",
    "\n",
    "widgets.interact(plot_rotated_moon_dataset, num_samples = (100, 1000, 100), noise = (0, 1, 0.05), rotated_angle = (0, 360, 5))"
   ]
  },
  {
   "cell_type": "markdown",
   "metadata": {},
   "source": [
    "# Model Initialization  "
   ]
  },
  {
   "cell_type": "code",
   "execution_count": 19,
   "metadata": {},
   "outputs": [],
   "source": [
    "import torch.nn as nn\n",
    "import torch.nn.functional as F\n",
    "\n",
    "class Encoder(nn.Module):\n",
    "    def __init__(self, layout, activation = torch.relu):\n",
    "        super(Encoder, self).__init__()\n",
    "        self.layers = nn.ModuleList()\n",
    "        self.activation = activation\n",
    "        for i in range(len(layout)):\n",
    "            self.layers.append(nn.Linear(layout[i][0], layout[i][1]))\n",
    "\n",
    "    def forward(self, x):\n",
    "        for layer in self.layers[: -1]:\n",
    "            x = self.activation(layer(x))\n",
    "        x = self.layers[-1](x)\n",
    "        return x\n",
    "\n",
    "class Decoder(nn.Module):\n",
    "    def __init__(self, layout, activation):\n",
    "        super(Decoder, self).__init__()\n",
    "        self.layers = nn.ModuleList()\n",
    "        self.activation = activation\n",
    "        for i in range(len(layout)):\n",
    "            self.layers.append(nn.Linear(layout[i][0], layout[i][1]))\n",
    "\n",
    "        \n",
    "    def forward(self, x):\n",
    "        for layer in self.layers[: -1]:\n",
    "            x = self.activation(layer(x))\n",
    "        x = F.sigmoid(self.layers[-1](x))\n",
    "        return x\n",
    "\n",
    "class Aggregator(nn.Module):\n",
    "    def __init__(self):\n",
    "        super(Aggregator, self).__init__()\n",
    "        \n",
    "    def forward(self, x):\n",
    "        return torch.mean(x, dim=0)\n",
    "\n",
    "class CNP(nn.Module):\n",
    "    def __init__(self, layout_encoder, layout_decoder, activation):\n",
    "        super(CNP, self).__init__()\n",
    "        self.encoder = Encoder(layout_encoder, activation)\n",
    "        self.decoder = Decoder(layout_decoder, activation)\n",
    "        self.aggregator = Aggregator()\n",
    "        \n",
    "    def forward(self, contextx, contexty, targetx):\n",
    "        context = torch.cat([contextx, contexty], dim=1)\n",
    "        encoded_context = self.encoder(context)\n",
    "        aggregated = self.aggregator(encoded_context)\n",
    "        decoder_input = torch.cat([aggregated.unsqueeze(0).expand(len(targetx),-1), targetx.view(-1, contextx.shape[1])], dim=1)\n",
    "        output = self.decoder(decoder_input)\n",
    "        return output\n",
    "\n",
    "\n",
    "# class Encoder(nn.Module):\n",
    "#     def __init__(self):\n",
    "#         super(Encoder, self).__init__()\n",
    "#         self.fc1 = nn.Linear(3, 256)\n",
    "#         self.fc2 = nn.Linear(256, 256)\n",
    "#         self.fc3 = nn.Linear(256, 256)\n",
    "#         self.fc6 = nn.Linear(256, 128)\n",
    "\n",
    "        \n",
    "#     def forward(self, x):\n",
    "#         x = F.relu(self.fc1(x))\n",
    "#         x = F.relu(self.fc2(x))\n",
    "#         x = F.relu(self.fc3(x))\n",
    "#         x = self.fc6(x)\n",
    "#         return x\n",
    "\n",
    "# class Decoder(nn.Module):\n",
    "#     def __init__(self):\n",
    "#         super(Decoder, self).__init__()\n",
    "#         self.fc1 = nn.Linear(130, 256)\n",
    "#         self.fc2 = nn.Linear(256, 256)\n",
    "#         self.fc5 = nn.Linear(256, 256)\n",
    "#         self.fc6 = nn.Linear(256, 1)\n",
    "        \n",
    "#     def forward(self, x):\n",
    "#         x = F.relu(self.fc1(x))\n",
    "#         x = F.relu(self.fc2(x))\n",
    "#         x= F.relu(self.fc5(x))\n",
    "#         x = F.sigmoid(self.fc6(x))\n",
    "#         return x\n",
    "\n",
    "# class Aggregator(nn.Module):\n",
    "#     def __init__(self):\n",
    "#         super(Aggregator, self).__init__()\n",
    "        \n",
    "#     def forward(self, x):\n",
    "#         return torch.mean(x, dim=0)\n",
    "\n",
    "# class cnp(nn.Module):\n",
    "#     def __init__(self):\n",
    "#         super(cnp, self).__init__()\n",
    "#         self.encoder = Encoder()\n",
    "#         self.decoder = Decoder()\n",
    "#         self.aggregator = Aggregator()\n",
    "        \n",
    "#     def forward(self, contextx, contexty, targetx):\n",
    "#         context = torch.cat([contextx, contexty.unsqueeze(1)], dim=1)\n",
    "#         encoded_context = self.encoder(context)\n",
    "#         aggregated = self.aggregator(encoded_context)\n",
    "#         decoder_input = torch.cat([aggregated.unsqueeze(0).expand(len(targetx),-1), targetx.view(-1, 2)], dim=1)\n",
    "#         output = self.decoder(decoder_input)\n",
    "#         return output\n",
    "    \n",
    "\n"
   ]
  },
  {
   "cell_type": "markdown",
   "metadata": {},
   "source": [
    "# Training The Make moons Dataset"
   ]
  },
  {
   "cell_type": "code",
   "execution_count": 24,
   "metadata": {},
   "outputs": [
    {
     "name": "stderr",
     "output_type": "stream",
     "text": [
      "100%|██████████| 10000/10000 [00:16<00:00, 590.84it/s]\n"
     ]
    },
    {
     "data": {
      "image/png": "[encoded data removed]",
      "text/plain": [
       "<Figure size 640x480 with 1 Axes>"
      ]
     },
     "metadata": {},
     "output_type": "display_data"
    }
   ],
   "source": [
    "# make random 100 angles between 0 and 360\n",
    "\n",
    "def take_random_angles(size = 100):\n",
    "    return np.random.randint(0, 361, size)\n",
    "# angles=[i for i in range(0,360,3)]\n",
    "# \n",
    "# print(len(angles))\n",
    "\n",
    "# select 100 random angles from the list of 120 angles\n",
    "\n",
    "# angles=np.random.choice(angles,100)\n",
    "\n",
    "\n",
    "def generate_make_moons(num_samples, angle, noise = 0.15):\n",
    "    X, y = make_moons(n_samples=num_samples, noise=noise, random_state=42)\n",
    "    X = rotate_dataset(X, angle)\n",
    "    return X, y\n",
    "\n",
    "def train_make_moons(num_epochs = 1000):\n",
    "    # model and loss initialization\n",
    "    \n",
    "    encoder_layout = [[3, 256], [256, 256], [256, 256], [256, 128]]\n",
    "    decoder_layout = [[130, 256], [256, 256], [256, 256], [256, 1]]\n",
    "\n",
    "    model = CNP(encoder_layout, decoder_layout, F.relu)\n",
    "    \n",
    "    criterion = nn.BCELoss()\n",
    "    optimizer = optim.Adam(model.parameters(), lr=0.001)\n",
    "    \n",
    "    angles_count = 100\n",
    "    angles = take_random_angles(angles_count)\n",
    "\n",
    "    num_samples = 150\n",
    "    training_data =[generate_make_moons(num_samples, angles[i]) for i in range(angles_count)]\n",
    "\n",
    "    \n",
    "    losses = []\n",
    "    for epoch in tqdm(range(num_epochs)):\n",
    "        \n",
    "        context=np.random.choice(num_samples, 50, replace=False)\n",
    "        target=np.random.choice(num_samples, 100, replace=False)\n",
    "        train_set=np.random.randint(0, 99) # possible values of index to look for \n",
    "\n",
    "\n",
    "        target_x=training_data[train_set][0][target]\n",
    "        target_y=training_data[train_set][1][target]\n",
    "        context_x=training_data[train_set][0][context]\n",
    "        context_y=training_data[train_set][1][context]\n",
    "\n",
    "\n",
    "        context_x = torch.tensor(context_x, dtype=torch.float32)\n",
    "        context_y = torch.tensor(context_y, dtype=torch.float32).view(-1, 1)\n",
    "        target_x = torch.tensor(target_x, dtype=torch.float32)\n",
    "        target_y = torch.tensor(target_y, dtype=torch.float32).view(-1, 1)\n",
    "\n",
    "        # print(f\"contextx shape: {context_x.shape} context y shape {context_y.shape} target x shape {target_x.shape} target y {target_y.shape}\")\n",
    "        \n",
    "        model.train()\n",
    "        optimizer.zero_grad()\n",
    "        predictions = model(context_x, context_y, target_x)\n",
    "        loss = criterion(predictions, target_y.view(-1, 1))\n",
    "        loss.backward()\n",
    "        optimizer.step()\n",
    "        # print(f\"Epoch [{epoch+1}/{num_epochs}], Loss: {loss.item():.4f}\")\n",
    "        losses.append(loss.item())\n",
    "    \n",
    "    plt.plot(np.arange(num_epochs), np.log(losses))\n",
    "    plt.xlabel('Epochs')\n",
    "    plt.ylabel(\"Loss (Log)\")\n",
    "    plt.title(\"Loss vs Epoch\")\n",
    "    plt.show()\n",
    "    return model\n",
    "\n",
    "\n",
    "\n",
    "\n",
    "model = train_make_moons(10000)\n",
    "\n",
    "\n",
    "    "
   ]
  },
  {
   "cell_type": "markdown",
   "metadata": {},
   "source": [
    "# Testing"
   ]
  },
  {
   "cell_type": "code",
   "execution_count": 10,
   "metadata": {},
   "outputs": [
    {
     "data": {
      "application/vnd.jupyter.widget-view+json": {
       "model_id": "5e779f97c3bb4c5c86fcdb373a7b7209",
       "version_major": 2,
       "version_minor": 0
      },
      "text/plain": [
       "interactive(children=(IntSlider(value=150, description='num_samples', max=1000, min=100, step=50), FloatSlider…"
      ]
     },
     "metadata": {},
     "output_type": "display_data"
    },
    {
     "data": {
      "text/plain": [
       "<function __main__.testing(num_samples=150, noise=0.15, context_x_size=2, target_size=100, angle=0)>"
      ]
     },
     "execution_count": 10,
     "metadata": {},
     "output_type": "execute_result"
    }
   ],
   "source": [
    "def testing(num_samples = 150, noise = 0.15,  context_x_size = 2, target_size = 100, angle = 0):\n",
    "    # angle=np.random.randint(0,360)\n",
    "    # print(angle)\n",
    "    test_data=generate_make_moons(num_samples, angle, noise= noise)\n",
    "\n",
    "    context=np.random.choice(num_samples, context_x_size, replace=False)\n",
    "    target=np.random.choice(num_samples, target_size, replace=False)\n",
    "\n",
    "\n",
    "    target_x=test_data[0][target]\n",
    "    target_y=test_data[1][target]\n",
    "    context_x=test_data[0][context]\n",
    "    context_y=test_data[1][context]\n",
    "\n",
    "\n",
    "    context_x = torch.tensor(context_x, dtype=torch.float32)\n",
    "    context_y = torch.tensor(context_y, dtype=torch.float32)\n",
    "    target_x = torch.tensor(target_x, dtype=torch.float32)\n",
    "    target_y = torch.tensor(target_y, dtype=torch.float32)\n",
    "\n",
    "    predictions = model(context_x, context_y, target_x)\n",
    "    predictions=(predictions>0.5).float()\n",
    "\n",
    "    wrong_predictions = predictions.detach().numpy().reshape(-1) != target_y.numpy()\n",
    "    \n",
    "\n",
    "    fig, ax= plt.subplots(1, 3, figsize=(24, 6))\n",
    "    ax[0].scatter(target_x[:, 0], target_x[:, 1], c=target_y, cmap=plt.cm.RdYlBu)\n",
    "    ax[0].set_title(\"Ground Truth\")\n",
    "    ax[1].scatter(target_x[:, 0], target_x[:, 1], c=predictions.detach().numpy(), cmap=plt.cm.RdYlBu )\n",
    "    ax[1].set_title(\"Predictions\")\n",
    "    ax[2].scatter(target_x[wrong_predictions, 0], target_x[wrong_predictions, 1], c=target_y[wrong_predictions], cmap=plt.cm.RdYlBu)\n",
    "    ax[2].scatter(target_x[:, 0], target_x[:, 1], c=target_y, cmap=plt.cm.RdYlBu, alpha=0.2)\n",
    "    ax[2].set_title(f\"Wrong prediction {sum(wrong_predictions)}\")\n",
    "    \n",
    "widgets.interact(testing, num_samples = (100, 1000, 50), noise = (0, 2, 0.05), context_x_size = (1, 1000, 2), target_size = (100, 1000, 10), angle = (0, 360, 0.5))"
   ]
  },
  {
   "cell_type": "code",
   "execution_count": null,
   "metadata": {},
   "outputs": [],
   "source": []
  }
 ],
 "metadata": {
  "kernelspec": {
   "display_name": "venvcs499",
   "language": "python",
   "name": "python3"
  },
  "language_info": {
   "codemirror_mode": {
    "name": "ipython",
    "version": 3
   },
   "file_extension": ".py",
   "mimetype": "text/x-python",
   "name": "python",
   "nbconvert_exporter": "python",
   "pygments_lexer": "ipython3",
   "version": "3.9.6"
  },
  "orig_nbformat": 4
 },
 "nbformat": 4,
 "nbformat_minor": 2
}
