{
 "cells": [
  {
   "cell_type": "code",
   "execution_count": 1,
   "metadata": {},
   "outputs": [],
   "source": [
    "import arviz as az"
   ]
  },
  {
   "cell_type": "code",
   "execution_count": 1,
   "metadata": {},
   "outputs": [],
   "source": [
    "import argparse\n",
    "import os\n",
    "import time\n",
    "\n",
    "import matplotlib\n",
    "import matplotlib.pyplot as plt\n",
    "import numpy as np\n",
    "\n",
    "from jax import vmap\n",
    "import jax.numpy as jnp\n",
    "import jax.random as random\n",
    "\n",
    "import numpyro\n",
    "from numpyro import handlers\n",
    "import numpyro.distributions as dist\n",
    "from numpyro.infer import MCMC, NUTS\n",
    "\n",
    "from scipy import stats\n",
    "import seaborn as sns\n",
    "from warnings import filterwarnings\n",
    "\n",
    "import sklearn\n",
    "from sklearn import datasets\n",
    "from sklearn.preprocessing import scale\n",
    "from sklearn.model_selection import train_test_split\n",
    "from sklearn.datasets import make_moons\n",
    "\n",
    "filterwarnings(\"ignore\")\n",
    "sns.set_style(\"white\")\n",
    "\n",
    "cmap = sns.diverging_palette(250, 12, s=85, l=25, as_cmap=True)\n",
    "cmap_uncertainty = sns.cubehelix_palette(light=1, as_cmap=True)\n",
    "# from tueplots import bundles\n",
    "# bundles.icml2022() \n",
    "# plt.rcParams.update(bundles.icml2022())\n",
    "\n",
    "layer_names = [\"w1_c\", \"w2_c\", \"w3_c\"]"
   ]
  },
  {
   "cell_type": "code",
   "execution_count": 2,
   "metadata": {},
   "outputs": [],
   "source": [
    "import matplotlib.pyplot as plt\n",
    "%matplotlib inline\n",
    "import numpy as np\n",
    "import pandas as pd\n",
    "import matplotlib\n",
    "from math import sqrt\n",
    "SPINE_COLOR = 'gray'\n",
    "\n",
    "\n",
    "def latexify(fig_width=None, fig_height=None, columns=1):\n",
    "    \"\"\"Set up matplotlib's RC params for LaTeX plotting.\n",
    "    Call this before plotting a figure.\n",
    "\n",
    "    Parameters\n",
    "    ----------\n",
    "    fig_width : float, optional, inches\n",
    "    fig_height : float,  optional, inches\n",
    "    columns : {1, 2}\n",
    "    \"\"\"\n",
    "\n",
    "    # code adapted from http://www.scipy.org/Cookbook/Matplotlib/LaTeX_Examples\n",
    "\n",
    "    # Width and max height in inches for IEEE journals taken from\n",
    "    # computer.org/cms/Computer.org/Journal%20templates/transactions_art_guide.pdf\n",
    "\n",
    "    assert(columns in [1,2])\n",
    "\n",
    "    if fig_width is None:\n",
    "        fig_width = 3.39 if columns==1 else 6.9 # width in inches\n",
    "\n",
    "    if fig_height is None:\n",
    "        golden_mean = (sqrt(5)-1.0)/2.0    # Aesthetic ratio\n",
    "        fig_height = fig_width*golden_mean # height in inches\n",
    "\n",
    "    MAX_HEIGHT_INCHES = 8.0\n",
    "    if fig_height > MAX_HEIGHT_INCHES:\n",
    "        print(\"WARNING: fig_height too large:\" + fig_height + \n",
    "              \"so will reduce to\" + MAX_HEIGHT_INCHES + \"inches.\")\n",
    "        fig_height = MAX_HEIGHT_INCHES\n",
    "\n",
    "    params = {'backend': 'ps',\n",
    "              'text.latex.preamble': r'\\usepackage{gensymb}',\n",
    "              'axes.labelsize': 8, # fontsize for x and y labels (was 10)\n",
    "              'axes.titlesize': 8,\n",
    "              'font.size': 8, # was 10\n",
    "              'legend.fontsize': 8, # was 10\n",
    "              'xtick.labelsize': 8,\n",
    "              'ytick.labelsize': 8,\n",
    "              'text.usetex': True,\n",
    "              'figure.figsize': [fig_width,fig_height],\n",
    "              'font.family': 'serif'\n",
    "    }\n",
    "\n",
    "    matplotlib.rcParams.update(params)\n",
    "\n",
    "\n",
    "def format_axes(ax):\n",
    "\n",
    "    for spine in ['top', 'right']:\n",
    "        ax.spines[spine].set_visible(False)\n",
    "\n",
    "    for spine in ['left', 'bottom']:\n",
    "        ax.spines[spine].set_color(SPINE_COLOR)\n",
    "        ax.spines[spine].set_linewidth(0.5)\n",
    "\n",
    "    ax.xaxis.set_ticks_position('bottom')\n",
    "    ax.yaxis.set_ticks_position('left')\n",
    "\n",
    "    for axis in [ax.xaxis, ax.yaxis]:\n",
    "        axis.set_tick_params(direction='out', color=SPINE_COLOR)\n",
    "\n",
    "    return ax\n",
    "\n",
    "latexify()"
   ]
  },
  {
   "cell_type": "code",
   "execution_count": 3,
   "metadata": {},
   "outputs": [
    {
     "data": {
      "text/plain": [
       "<matplotlib.legend.Legend at 0x2829a8cd0>"
      ]
     },
     "execution_count": 3,
     "metadata": {},
     "output_type": "execute_result"
    },
    {
     "data": {
      "image/png": "[encoded data removed]",
      "text/plain": [
       "<Figure size 339x209.514 with 1 Axes>"
      ]
     },
     "metadata": {},
     "output_type": "display_data"
    }
   ],
   "source": [
    "X, Y = make_moons(noise=0.3, n_samples=1000)\n",
    "plt.scatter(X[Y == 0, 0], X[Y == 0, 1], label=\"Class 0\")\n",
    "plt.scatter(X[Y == 1, 0], X[Y == 1, 1], color=\"r\", label=\"Class 1\")\n",
    "# sns.despine()\n",
    "plt.legend()"
   ]
  },
  {
   "cell_type": "code",
   "execution_count": 4,
   "metadata": {},
   "outputs": [],
   "source": [
    "def rotate(X, deg):\n",
    "    theta = np.radians(deg)\n",
    "    c, s = np.cos(theta), np.sin(theta)\n",
    "    R = np.matrix([[c, -s], [s, c]])\n",
    "\n",
    "    X = X.dot(R)\n",
    "\n",
    "    return np.asarray(X)"
   ]
  },
  {
   "cell_type": "code",
   "execution_count": 6,
   "metadata": {},
   "outputs": [],
   "source": [
    "def run_inference(model, rng_key, args, **kwargs):\n",
    "    kernel = NUTS(model)\n",
    "    mcmc = MCMC(\n",
    "        kernel,\n",
    "        num_warmup=args[\"num_warmup\"],\n",
    "        num_samples=args[\"num_samples\"],\n",
    "        num_chains=args[\"num_chains\"],\n",
    "        progress_bar=True,\n",
    "    )\n",
    "    mcmc.run(rng_key, **kwargs)\n",
    "    return mcmc\n",
    "\n",
    "def get_predictions(model, rng_key, samples, X, D_H, args, bnn_kwargs):\n",
    "    # helper function for prediction\n",
    "    def predict(model, rng_key, samples, X, D_H, bnn_kwargs):\n",
    "        model = handlers.substitute(handlers.seed(model, rng_key), samples)\n",
    "        # note that Y will be sampled in the model because we pass Y=None here\n",
    "        model_trace = (\n",
    "            handlers.trace(model).get_trace(X=X, Y=None, D_H=D_H)\n",
    "            if bnn_kwargs is None\n",
    "            else handlers.trace(model).get_trace(X=X, Y=None, D_H=D_H, **bnn_kwargs)\n",
    "        )\n",
    "        return model_trace[\"Y\"][\"value\"]\n",
    "\n",
    "    # predict Y at inputs X\n",
    "    vmap_args = (samples, random.split(rng_key, args[\"num_samples\"] * args[\"num_chains\"]))\n",
    "    predictions = vmap(lambda samples, rng_key: predict(model, rng_key, samples, X, D_H, bnn_kwargs))(*vmap_args)\n",
    "    return predictions\n",
    "\n",
    "def get_mean_predictions(predictions, threshold=0.5):\n",
    "    predictions = predictions[..., 0]\n",
    "    # compute mean prediction and confidence interval around median\n",
    "    mean_prediction = jnp.mean(predictions, axis=0)\n",
    "    return mean_prediction > threshold\n",
    "\n",
    "\n",
    "def fit_and_eval(model, X_train, X_test, Y_train, Y_test, grid, D_H, args, bnn_kwargs=None):\n",
    "    # values to be returned\n",
    "    pred_train, pred_test, pred_grid = [], [], []\n",
    "\n",
    "    # do inference\n",
    "    kwargs = {\"X\": X_train, \"Y\": Y_train, \"D_H\": D_H}\n",
    "    if bnn_kwargs:\n",
    "        kwargs = {**kwargs, **bnn_kwargs}\n",
    "\n",
    "    rng_key, rng_key_train, rng_key_test, rng_key_grid = random.split(random.PRNGKey(0), 4)\n",
    "    mcmc = run_inference(model, rng_key, args, **kwargs)\n",
    "    samples = mcmc.get_samples()\n",
    "\n",
    "    # predict Y_train and Y_test at inputs X_traind and X_test, respectively\n",
    "    predictions = get_predictions(model, rng_key_train, samples, X_train, D_H, args, bnn_kwargs)\n",
    "    # print(f\"prediction test {predictions.shape}\")\n",
    "    mean_prediction = get_mean_predictions(predictions)\n",
    "    # print(f\"test mean predictions {mean_prediction.shape}\")\n",
    "    pred_train = mean_prediction\n",
    "\n",
    "    predictions = get_predictions(model, rng_key_test, samples, X_test, D_H, args, bnn_kwargs)\n",
    "    mean_prediction = get_mean_predictions(predictions)\n",
    "    pred_test = mean_prediction\n",
    "\n",
    "    ppc_grid = get_predictions(model, rng_key_grid, samples, grid, D_H, args, bnn_kwargs)\n",
    "    return pred_train, pred_test, ppc_grid, mcmc\n"
   ]
  },
  {
   "cell_type": "code",
   "execution_count": 7,
   "metadata": {},
   "outputs": [],
   "source": [
    "\"\"\"\n",
    "A two-layer bayesian neural network with computational flow\n",
    "given by D_X => D_H => D_H => D_Y where D_H is the number of\n",
    "hidden units.\n",
    "\"\"\"\n",
    "\n",
    "\n",
    "def hierarchical_nn(X, Y, D_H):\n",
    "    D_C, _, D_X = X.shape\n",
    "    D_Y = 1\n",
    "    # print(X.shape)\n",
    "    # Group mean distribution for input to hidden layer\n",
    "    w1_c = numpyro.sample(\"w1_c\", dist.Normal(jnp.zeros((D_X, D_H)), jnp.ones((D_X, D_H))))  # D_X D_H\n",
    "    # Group standard-deviation\n",
    "    w1_c_std = numpyro.sample(\"w1_c_std\", dist.HalfNormal(1.0))\n",
    "\n",
    "    # sample second layer\n",
    "    w2_c = numpyro.sample(\"w2_c\", dist.Normal(jnp.zeros((D_H, D_H)), jnp.ones((D_H, D_H))))  # D_H D_H\n",
    "    w2_c_std = numpyro.sample(\"w2_c_std\", dist.HalfNormal(1.0))\n",
    "\n",
    "    # sample final layer of weights and neural network output\n",
    "    w3_c = numpyro.sample(\"w3_c\", dist.Normal(jnp.zeros((D_H, D_Y)), jnp.ones((D_H, D_Y))))  # D_H D_Y\n",
    "    w3_c_std = numpyro.sample(\"w3_c_std\", dist.HalfNormal(1.0))\n",
    "\n",
    "    w1_all = numpyro.sample(\"w1_all\", dist.Normal(jnp.zeros((D_C, D_X, D_H)), jnp.ones((D_C, D_X, D_H))))  # D_C D_X D_H\n",
    "    w2_all = numpyro.sample(\"w2_all\", dist.Normal(jnp.zeros((D_C, D_H, D_H)), jnp.ones((D_C, D_H, D_H))))  # D_C D_H D_H\n",
    "    w3_all = numpyro.sample(\"w3_all\", dist.Normal(jnp.zeros((D_C, D_H, D_Y)), jnp.ones((D_C, D_H, D_Y))))  # D_C D_H D_Y\n",
    "\n",
    "    w1 = w1_all * w1_c_std + w1_c\n",
    "    w2 = w2_all * w2_c_std + w2_c\n",
    "    w3 = w3_all * w3_c_std + w3_c\n",
    "    # print(w1.shape, w2.shape, w3.shape)\n",
    "    z1 = jnp.tanh(jnp.matmul(X, w1))  # D_C N D_H  <= first layer of activations\n",
    "    z2 = jnp.tanh(jnp.matmul(z1, w2))  # D_C N D_H  <= second layer of activations\n",
    "    z3 = jnp.matmul(z2, w3)  # D_C N D_Y  <= output of the neural network\n",
    "\n",
    "    # if Y is not None: \n",
    "    #     print(f\"hiq mei Y size {Y.shape}\")\n",
    "    # else: \n",
    "    #     print(f\"hi1 me none\")\n",
    "    # Bernoulli likelihood <= Binary classification\n",
    "    Y = numpyro.sample(\"Y\", dist.Bernoulli(logits=z3), obs=Y.reshape((D_C, -1, 1)) if Y is not None else Y)\n",
    "\n",
    "    # if Y is not None: \n",
    "    #     print(f\"baad hiq mei Y size {Y.shape}\")\n",
    "    # else: \n",
    "    #     print(f\"baad hi1 me none\")"
   ]
  },
  {
   "cell_type": "markdown",
   "metadata": {},
   "source": [
    "Defining the dataset so to keep common for both BNN and CNP\n",
    "\n",
    "X_train_final and Y_train_final - fixed angles whose datapoints are not changing\n",
    "\n",
    "Y_test_final and X_test_final - data corresponding to the angle whose points are going to change. use to calculate the accuracy \n",
    "\n",
    "contexts_x - varying number of points for the last angle"
   ]
  },
  {
   "cell_type": "code",
   "execution_count": 8,
   "metadata": {},
   "outputs": [],
   "source": [
    "def get_dataset(n_samples, angles = [0, 90, 180, 270], contexts = 10):\n",
    "    np.random.seed(31)\n",
    "\n",
    "    # angles = [0, 10, 20, 30, 40, 50, 60, 70, 80, 90, 100, 110, 120, 130, 140, 150]\n",
    "    angles = [0, 90, 180, 270]\n",
    "    # last arguments is passed as the context with less number of points\n",
    "    n = len(angles)\n",
    "    # n_grps_sq = int(np.sqrt(n_grps))\n",
    "    X_train_final, X_test_final, Y_train_final, Y_test_final = [], [], [], []\n",
    "    for i in range(n):\n",
    "        if(i == n - 1):\n",
    "            # fact = 10\n",
    "            X, Y = make_moons(noise=0.3, n_samples=n_samples)\n",
    "            X_test = X\n",
    "            Y_test = Y\n",
    "            X = np.tile(X[: contexts, :], (n_samples//contexts +1, 1))\n",
    "            Y = np.tile(Y[:contexts], n_samples//contexts + 1)\n",
    "            X = X[: n_samples, :]\n",
    "            Y = Y[: n_samples]\n",
    "            X_train = X\n",
    "            Y_train = Y\n",
    "            \n",
    "        else:\n",
    "            X, Y = make_moons(noise=0.2, n_samples=n_samples)\n",
    "            X_train = X_test = X\n",
    "            Y_test = Y_train = Y\n",
    "    \n",
    "        X_train = scale(X_train)\n",
    "        X_test = scale(X_test)\n",
    "\n",
    "\n",
    "        # Rotate the points randomly from 0 to 90 for each category \n",
    "        # rotate_by = np.random.randn() * 90.0\n",
    "        rotate_by = angles[i]\n",
    "        X_train = rotate(X_train, rotate_by)\n",
    "        X_test = rotate(X_test, rotate_by)\n",
    "\n",
    "        # print(X_test.shape, X_train.shape, Y_test.shape, Y_train.shape)\n",
    "\n",
    "        X_test_final.append(X_test)\n",
    "        X_train_final.append(X_train)\n",
    "        Y_test_final.append(Y_test)\n",
    "        Y_train_final.append(Y_train)\n",
    "\n",
    "    X_train_final = np.stack(X_train_final)\n",
    "    X_test_final = np.stack(X_test_final)\n",
    "    Y_train_final = np.stack(Y_train_final)\n",
    "    Y_test_final = np.stack(Y_test_final)\n",
    "\n",
    "    return X_train_final, X_test_final, Y_train_final, Y_test_final\n",
    "\n",
    "    \n"
   ]
  },
  {
   "cell_type": "code",
   "execution_count": 9,
   "metadata": {},
   "outputs": [],
   "source": [
    "\n",
    "\n",
    "context_points = list(range(10, 101, 10))\n",
    "# context_points = [10, 20]\n",
    "\n",
    "n_samples = 100\n",
    "angles = [0, 90, 180, 270]\n",
    "\n",
    "noise = 0.3\n",
    "\n",
    "\n",
    "# fixed points\n",
    "X_train_data, Y_train_data = [], []\n",
    "X_test_data, Y_test_data = [], []\n",
    "for i in range(len(angles)):\n",
    "    xx, yy = make_moons(n_samples=n_samples, noise= noise)\n",
    "    rotate_by = angles[i]\n",
    "    if i == len(angles) - 1:\n",
    "        X_test_data = rotate(xx, rotate_by)\n",
    "        Y_test_data = yy\n",
    "    else :\n",
    "        X_train_data.append(rotate(xx, rotate_by))\n",
    "        Y_train_data.append(yy)\n",
    "\n",
    "# different context\n",
    "contexts_x, contexts_y = [], []\n",
    "for contexts in context_points:\n",
    "    x_new = np.tile(X_test_data[: contexts], (n_samples//contexts +1, 1))\n",
    "    y_new = np.tile(Y_test_data[: contexts], n_samples//contexts + 1)\n",
    "    x_new = x_new[: n_samples, :]\n",
    "    y_new = y_new[: n_samples]\n",
    "    contexts_x.append(x_new)\n",
    "    contexts_y.append(y_new)\n",
    "\n",
    "contexts_y = np.array(contexts_y)\n",
    "contexts_x = np.array(contexts_x)\n",
    "\n",
    "X_train_data = np.array(X_train_data)\n",
    "Y_train_data = np.array(Y_train_data)\n",
    "X_test_data = np.array(X_test_data)\n",
    "Y_test_data = np.array(Y_test_data)\n"
   ]
  },
  {
   "cell_type": "code",
   "execution_count": 10,
   "metadata": {},
   "outputs": [
    {
     "data": {
      "text/plain": [
       "((10, 100, 2), (10, 100), (100, 2), (100,), (3, 100, 2), (3, 100))"
      ]
     },
     "execution_count": 10,
     "metadata": {},
     "output_type": "execute_result"
    }
   ],
   "source": [
    "contexts_x.shape, contexts_y.shape, X_test_data.shape, Y_test_data.shape, X_train_data.shape, Y_train_data.shape\n"
   ]
  },
  {
   "cell_type": "code",
   "execution_count": 62,
   "metadata": {},
   "outputs": [
    {
     "name": "stdout",
     "output_type": "stream",
     "text": [
      "(4, 100, 2) (4, 100, 2) (4, 100) (4, 100)\n"
     ]
    },
    {
     "name": "stderr",
     "output_type": "stream",
     "text": [
      "sample: 100%|██████████| 2500/2500 [01:12<00:00, 34.60it/s, 511 steps of size 8.61e-03. acc. prob=0.92] \n"
     ]
    },
    {
     "name": "stdout",
     "output_type": "stream",
     "text": [
      "(4, 100, 2) (4, 100, 2) (4, 100) (4, 100)\n"
     ]
    },
    {
     "name": "stderr",
     "output_type": "stream",
     "text": [
      "sample: 100%|██████████| 2500/2500 [00:49<00:00, 50.75it/s, 255 steps of size 1.33e-02. acc. prob=0.83] \n"
     ]
    },
    {
     "name": "stdout",
     "output_type": "stream",
     "text": [
      "(4, 100, 2) (4, 100, 2) (4, 100) (4, 100)\n"
     ]
    },
    {
     "name": "stderr",
     "output_type": "stream",
     "text": [
      "sample: 100%|██████████| 2500/2500 [01:01<00:00, 40.74it/s, 511 steps of size 9.32e-03. acc. prob=0.93] \n"
     ]
    },
    {
     "name": "stdout",
     "output_type": "stream",
     "text": [
      "(4, 100, 2) (4, 100, 2) (4, 100) (4, 100)\n"
     ]
    },
    {
     "name": "stderr",
     "output_type": "stream",
     "text": [
      "sample: 100%|██████████| 2500/2500 [00:38<00:00, 65.40it/s, 255 steps of size 1.66e-02. acc. prob=0.89] \n"
     ]
    },
    {
     "name": "stdout",
     "output_type": "stream",
     "text": [
      "(4, 100, 2) (4, 100, 2) (4, 100) (4, 100)\n"
     ]
    },
    {
     "name": "stderr",
     "output_type": "stream",
     "text": [
      "sample: 100%|██████████| 2500/2500 [00:40<00:00, 61.96it/s, 255 steps of size 1.40e-02. acc. prob=0.93]\n"
     ]
    },
    {
     "name": "stdout",
     "output_type": "stream",
     "text": [
      "(4, 100, 2) (4, 100, 2) (4, 100) (4, 100)\n"
     ]
    },
    {
     "name": "stderr",
     "output_type": "stream",
     "text": [
      "sample: 100%|██████████| 2500/2500 [00:36<00:00, 67.98it/s, 255 steps of size 2.04e-02. acc. prob=0.81] \n"
     ]
    },
    {
     "name": "stdout",
     "output_type": "stream",
     "text": [
      "(4, 100, 2) (4, 100, 2) (4, 100) (4, 100)\n"
     ]
    },
    {
     "name": "stderr",
     "output_type": "stream",
     "text": [
      "sample: 100%|██████████| 2500/2500 [00:39<00:00, 63.47it/s, 255 steps of size 1.47e-02. acc. prob=0.94] \n"
     ]
    },
    {
     "name": "stdout",
     "output_type": "stream",
     "text": [
      "(4, 100, 2) (4, 100, 2) (4, 100) (4, 100)\n"
     ]
    },
    {
     "name": "stderr",
     "output_type": "stream",
     "text": [
      "sample: 100%|██████████| 2500/2500 [00:36<00:00, 68.11it/s, 255 steps of size 2.29e-02. acc. prob=0.83] \n"
     ]
    },
    {
     "name": "stdout",
     "output_type": "stream",
     "text": [
      "(4, 100, 2) (4, 100, 2) (4, 100) (4, 100)\n"
     ]
    },
    {
     "name": "stderr",
     "output_type": "stream",
     "text": [
      "sample: 100%|██████████| 2500/2500 [00:34<00:00, 73.09it/s, 255 steps of size 1.78e-02. acc. prob=0.94] \n"
     ]
    },
    {
     "name": "stdout",
     "output_type": "stream",
     "text": [
      "(4, 100, 2) (4, 100, 2) (4, 100) (4, 100)\n"
     ]
    },
    {
     "name": "stderr",
     "output_type": "stream",
     "text": [
      "sample: 100%|██████████| 2500/2500 [00:35<00:00, 70.85it/s, 255 steps of size 1.86e-02. acc. prob=0.93] \n"
     ]
    },
    {
     "data": {
      "image/png": "[encoded data removed]",
      "text/plain": [
       "<Figure size 320x700 with 10 Axes>"
      ]
     },
     "metadata": {},
     "output_type": "display_data"
    }
   ],
   "source": [
    "\n",
    "n_grps = len(angles)\n",
    "grid = np.mgrid[-3:3:100j, -3:3:100j].reshape((2, -1)).T\n",
    "D_H = 10\n",
    "args = {\"num_samples\": 1000, \"num_chains\": 1, \"num_warmup\": 1500}\n",
    "grid_3d = np.repeat(grid[None, ...], n_grps, axis=0)\n",
    "\n",
    "accuracy_lst = []\n",
    "fig, axs = plt.subplots(figsize=(3.2, 7), nrows=5, ncols=2, sharex=True, sharey=True)\n",
    "axs = axs.flatten()\n",
    "for i in range(len(context_points)):\n",
    "    X_train = np.concatenate( (X_train_data, contexts_x[i].reshape(1, n_samples, 2)), axis=0)\n",
    "    Y_train = np.concatenate((Y_train_data, contexts_y[i].reshape(1, n_samples)) , axis = 0)\n",
    "    X_test = np.concatenate((X_train_data, X_test_data.reshape(1, n_samples, 2) ), axis = 0)\n",
    "    Y_test = np.concatenate((Y_train_data, Y_test_data.reshape(1, n_samples)), axis = 0)\n",
    "\n",
    "\n",
    "    print(X_test.shape, X_train.shape, Y_test.shape, Y_train.shape)\n",
    "    # print(X_train[-1][: 10])\n",
    "\n",
    "    Y_hierarchical_pred_train, Y_hierarchical_pred_test, ppc_grid, mcmc_hier = fit_and_eval(hierarchical_nn, X_train, X_test, Y_train, Y_test, grid_3d, D_H, args )\n",
    "    # trace_hier = mcmc_hier.get_samples()\n",
    "\n",
    "    contour = axs[i].contourf(\n",
    "        grid[:, 0].reshape((100, 100)),\n",
    "        grid[:, 1].reshape((100, 100)),\n",
    "        ppc_grid[:, -1, :].mean(axis=0).reshape(100, 100),\n",
    "        cmap=cmap,\n",
    "    )\n",
    "    Y_hierarchical_pred_test = Y_hierarchical_pred_test.astype(int)\n",
    "    # print(Y_hierarchical_pred_test[-1, :5], Y_test[-1, :5])\n",
    "    acc = np.mean(Y_hierarchical_pred_test[-1, :] == Y_test[-1, :]) * n_samples\n",
    "    accuracy_lst.append(acc)\n",
    "    X_plot = X_train[-1]\n",
    "    Y_plot = Y_train[-1]\n",
    "    axs[i].scatter(X_plot[Y_plot == 0, 0], X_plot[Y_plot == 0, 1], label=\"Class 0\", s = 2)\n",
    "    axs[i].scatter(X_plot[Y_plot == 1, 0], X_plot[Y_plot == 1, 1], color=\"r\", label=\"Class 1\", s= 2)\n",
    "    # sns.despine()\n",
    "    # axs[i].tick_params(axis='both', which='both', labelsize=3)\n",
    "    axs[i].set_title(f\"Context = {context_points[i]}\", fontsize = 8)\n",
    "# fig.legend(loc='upper center', fontsize=5, labels=['Class 0', 'Class 1'], bbox_to_anchor=(0.5, 0.04))\n",
    "# fig.suptitle('Angle {}'.format(angles[-1]), fontsize=8)\n",
    "plt.savefig(\"plots/bnn_contours.pdf\", format=\"pdf\", bbox_inches=\"tight\")\n",
    "plt.show()\n",
    "    \n",
    "\n",
    "\n",
    "\n",
    "\n",
    "\n",
    "\n",
    "\n",
    "    "
   ]
  },
  {
   "cell_type": "code",
   "execution_count": 61,
   "metadata": {},
   "outputs": [
    {
     "data": {
      "image/png": "[encoded data removed]",
      "text/plain": [
       "<Figure size 339x209.514 with 1 Axes>"
      ]
     },
     "metadata": {},
     "output_type": "display_data"
    }
   ],
   "source": [
    "fig, ax = plt.subplots()  # Width = 3*5 inches, Height = 5 inches\n",
    "plt.plot(context_points, np.array(accuracy_lst) * n_samples/100)\n",
    "plt.title(\"Accuracy v/s Context\")\n",
    "plt.xlabel(\"Context\")\n",
    "plt.ylabel(\"Accuracy\")\n",
    "ax.tick_params(axis='both', which='both', labelsize=8)\n",
    "plt.savefig(\"plots/performance_bnn_makeMoon_compare.pdf\", format=\"pdf\", bbox_inches=\"tight\")\n",
    "plt.show()"
   ]
  },
  {
   "cell_type": "markdown",
   "metadata": {},
   "source": [
    "# CNP on Make Moons"
   ]
  },
  {
   "cell_type": "code",
   "execution_count": 53,
   "metadata": {},
   "outputs": [],
   "source": [
    "\n",
    "import numpy as np\n",
    "import matplotlib.pyplot as plt\n",
    "import ipywidgets as widgets\n",
    "import torch\n",
    "import torch.optim as optim\n",
    "from tqdm import tqdm\n",
    "from sklearn.datasets import make_moons"
   ]
  },
  {
   "cell_type": "code",
   "execution_count": 54,
   "metadata": {},
   "outputs": [],
   "source": [
    "\n",
    "# Function to rotate a dataset by a specified angle\n",
    "def rotate_dataset(X, angle_degrees):\n",
    "    # Convert angle from degrees to radians\n",
    "    angle_radians = np.radians(angle_degrees)\n",
    "    \n",
    "    # Create a rotation matrix\n",
    "    rotation_matrix = np.array([[np.cos(angle_radians), -np.sin(angle_radians)],\n",
    "                                 [np.sin(angle_radians), np.cos(angle_radians)]])\n",
    "    \n",
    "    # Apply the rotation to the dataset\n",
    "    rotated_X = X.dot(rotation_matrix)\n",
    "    \n",
    "    return rotated_X"
   ]
  },
  {
   "cell_type": "code",
   "execution_count": 55,
   "metadata": {},
   "outputs": [],
   "source": [
    "import torch.nn as nn\n",
    "import torch.nn.functional as F\n",
    "\n",
    "class Encoder(nn.Module):\n",
    "    def __init__(self, layout, activation = torch.relu):\n",
    "        super(Encoder, self).__init__()\n",
    "        self.layers = nn.ModuleList()\n",
    "        self.activation = activation\n",
    "        for i in range(len(layout)):\n",
    "            self.layers.append(nn.Linear(layout[i][0], layout[i][1]))\n",
    "\n",
    "    def forward(self, x):\n",
    "        for layer in self.layers[: -1]:\n",
    "            x = self.activation(layer(x))\n",
    "        x = self.layers[-1](x)\n",
    "        return x\n",
    "\n",
    "class Decoder(nn.Module):\n",
    "    def __init__(self, layout, activation):\n",
    "        super(Decoder, self).__init__()\n",
    "        self.layers = nn.ModuleList()\n",
    "        self.activation = activation\n",
    "        for i in range(len(layout)):\n",
    "            self.layers.append(nn.Linear(layout[i][0], layout[i][1]))\n",
    "\n",
    "        \n",
    "    def forward(self, x):\n",
    "        for layer in self.layers[: -1]:\n",
    "            x = self.activation(layer(x))\n",
    "        x = F.sigmoid(self.layers[-1](x))\n",
    "        return x\n",
    "\n",
    "class Aggregator(nn.Module):\n",
    "    def __init__(self):\n",
    "        super(Aggregator, self).__init__()\n",
    "        \n",
    "    def forward(self, x):\n",
    "        return torch.mean(x, dim=0)\n",
    "\n",
    "class CNP(nn.Module):\n",
    "    def __init__(self, layout_encoder, layout_decoder, activation):\n",
    "        super(CNP, self).__init__()\n",
    "        self.encoder = Encoder(layout_encoder, activation)\n",
    "        self.decoder = Decoder(layout_decoder, activation)\n",
    "        self.aggregator = Aggregator()\n",
    "        \n",
    "    def forward(self, contextx, contexty, targetx):\n",
    "        context = torch.cat([contextx, contexty], dim=1)\n",
    "        encoded_context = self.encoder(context)\n",
    "        aggregated = self.aggregator(encoded_context)\n",
    "        decoder_input = torch.cat([aggregated.unsqueeze(0).expand(len(targetx),-1), targetx.view(-1, contextx.shape[1])], dim=1)\n",
    "        output = self.decoder(decoder_input)\n",
    "        return output\n",
    "\n",
    "\n"
   ]
  },
  {
   "cell_type": "code",
   "execution_count": 56,
   "metadata": {},
   "outputs": [
    {
     "name": "stdout",
     "output_type": "stream",
     "text": [
      "(4, 100, 2) (4, 100, 2) (4, 100) (4, 100)\n"
     ]
    },
    {
     "name": "stderr",
     "output_type": "stream",
     "text": [
      "100%|██████████| 100000/100000 [02:43<00:00, 610.73it/s]\n"
     ]
    },
    {
     "name": "stdout",
     "output_type": "stream",
     "text": [
      "predictions (100, 1), Y_test (100,)\n",
      "68.0\n",
      "(4, 100, 2) (4, 100, 2) (4, 100) (4, 100)\n"
     ]
    },
    {
     "name": "stderr",
     "output_type": "stream",
     "text": [
      "100%|██████████| 100000/100000 [02:46<00:00, 600.44it/s]\n"
     ]
    },
    {
     "name": "stdout",
     "output_type": "stream",
     "text": [
      "predictions (100, 1), Y_test (100,)\n",
      "87.0\n",
      "(4, 100, 2) (4, 100, 2) (4, 100) (4, 100)\n"
     ]
    },
    {
     "name": "stderr",
     "output_type": "stream",
     "text": [
      "100%|██████████| 100000/100000 [02:49<00:00, 590.16it/s]\n"
     ]
    },
    {
     "name": "stdout",
     "output_type": "stream",
     "text": [
      "predictions (100, 1), Y_test (100,)\n",
      "85.0\n",
      "(4, 100, 2) (4, 100, 2) (4, 100) (4, 100)\n"
     ]
    },
    {
     "name": "stderr",
     "output_type": "stream",
     "text": [
      "100%|██████████| 100000/100000 [02:52<00:00, 579.56it/s]\n"
     ]
    },
    {
     "name": "stdout",
     "output_type": "stream",
     "text": [
      "predictions (100, 1), Y_test (100,)\n",
      "90.0\n",
      "(4, 100, 2) (4, 100, 2) (4, 100) (4, 100)\n"
     ]
    },
    {
     "name": "stderr",
     "output_type": "stream",
     "text": [
      "100%|██████████| 100000/100000 [02:54<00:00, 572.00it/s]\n"
     ]
    },
    {
     "name": "stdout",
     "output_type": "stream",
     "text": [
      "predictions (100, 1), Y_test (100,)\n",
      "86.0\n",
      "(4, 100, 2) (4, 100, 2) (4, 100) (4, 100)\n"
     ]
    },
    {
     "name": "stderr",
     "output_type": "stream",
     "text": [
      "100%|██████████| 100000/100000 [02:48<00:00, 592.75it/s]\n"
     ]
    },
    {
     "name": "stdout",
     "output_type": "stream",
     "text": [
      "predictions (100, 1), Y_test (100,)\n",
      "96.0\n",
      "(4, 100, 2) (4, 100, 2) (4, 100) (4, 100)\n"
     ]
    },
    {
     "name": "stderr",
     "output_type": "stream",
     "text": [
      "100%|██████████| 100000/100000 [02:45<00:00, 604.37it/s]\n"
     ]
    },
    {
     "name": "stdout",
     "output_type": "stream",
     "text": [
      "predictions (100, 1), Y_test (100,)\n",
      "98.0\n",
      "(4, 100, 2) (4, 100, 2) (4, 100) (4, 100)\n"
     ]
    },
    {
     "name": "stderr",
     "output_type": "stream",
     "text": [
      "100%|██████████| 100000/100000 [03:05<00:00, 539.95it/s]\n"
     ]
    },
    {
     "name": "stdout",
     "output_type": "stream",
     "text": [
      "predictions (100, 1), Y_test (100,)\n",
      "100.0\n",
      "(4, 100, 2) (4, 100, 2) (4, 100) (4, 100)\n"
     ]
    },
    {
     "name": "stderr",
     "output_type": "stream",
     "text": [
      "100%|██████████| 100000/100000 [02:38<00:00, 632.71it/s]\n"
     ]
    },
    {
     "name": "stdout",
     "output_type": "stream",
     "text": [
      "predictions (100, 1), Y_test (100,)\n",
      "100.0\n",
      "(4, 100, 2) (4, 100, 2) (4, 100) (4, 100)\n"
     ]
    },
    {
     "name": "stderr",
     "output_type": "stream",
     "text": [
      "100%|██████████| 100000/100000 [03:04<00:00, 542.97it/s]\n"
     ]
    },
    {
     "name": "stdout",
     "output_type": "stream",
     "text": [
      "predictions (100, 1), Y_test (100,)\n",
      "100.0\n"
     ]
    },
    {
     "data": {
      "image/png": "[encoded data removed]",
      "text/plain": [
       "<Figure size 320x700 with 10 Axes>"
      ]
     },
     "metadata": {},
     "output_type": "display_data"
    }
   ],
   "source": [
    "\n",
    "from sklearn.metrics import accuracy_score\n",
    "def train_make_moons(X_train, Y_train, num_contexts, num_epochs = 1000, num_samples = 100,  context_size = 20, target_size= 80):\n",
    "    # model and loss initialization\n",
    "    \n",
    "    encoder_layout = [[3, 256], [256, 256], [256, 256], [256, 128]]\n",
    "    decoder_layout = [[130, 256], [256, 256], [256, 256], [256, 1]]\n",
    "\n",
    "    model = CNP(encoder_layout, decoder_layout, F.relu)\n",
    "    \n",
    "    criterion = nn.BCELoss()\n",
    "    optimizer = optim.Adam(model.parameters(), lr=0.001)\n",
    "\n",
    "    losses = []\n",
    "    for epoch in tqdm(range(num_epochs)):\n",
    "        \n",
    "        context=np.random.choice(num_samples, context_size, replace=False)\n",
    "        target=np.random.choice(num_samples, target_size, replace=False)\n",
    "        train_set=np.random.randint(0, 4) # possible values of index to look for \n",
    "        # print(context)\n",
    "\n",
    "        if train_set == 3:\n",
    "            # ind = np.random.randint(0, num_contexts)\n",
    "            context = np.random.choice(num_contexts, min(context_size, num_contexts), replace= False)\n",
    "            target = np.random.choice(num_contexts, min(context_size, num_contexts), replace = False)\n",
    "\n",
    "\n",
    "        target_x = X_train[train_set][target]\n",
    "        target_y = Y_train[train_set][target]\n",
    "        context_x_ = X_train[train_set][context]\n",
    "        context_y_ = Y_train[train_set][context]\n",
    "\n",
    "\n",
    "        context_x_ = torch.tensor(context_x_, dtype=torch.float32)\n",
    "        context_y_ = torch.tensor(context_y_, dtype=torch.float32).view(-1, 1)\n",
    "        target_x = torch.tensor(target_x, dtype=torch.float32)\n",
    "        target_y = torch.tensor(target_y, dtype=torch.float32).view(-1, 1)\n",
    "\n",
    "        # print(f\"contextx shape: {context_x.shape} context y shape {context_y.shape} target x shape {target_x.shape} target y {target_y.shape}\")\n",
    "        \n",
    "        model.train()\n",
    "        optimizer.zero_grad()\n",
    "        predictions = model(context_x_, context_y_, target_x)\n",
    "        loss = criterion(predictions, target_y.view(-1, 1))\n",
    "        loss.backward()\n",
    "        optimizer.step()\n",
    "        # print(f\"Epoch [{epoch+1}/{num_epochs}], Loss: {loss.item():.4f}\")\n",
    "        if epoch % 10 == 0 :\n",
    "            losses.append(loss.item())\n",
    "    \n",
    "    # plt.plot(np.arange(len(losses)), np.log(losses))\n",
    "    # plt.xlabel('Epochs')\n",
    "    # plt.ylabel(\"Loss (Log)\")\n",
    "    # plt.title(\"Loss vs Epoch\")\n",
    "    # plt.show()\n",
    "    return model\n",
    "\n",
    "\n",
    "\n",
    "def testing(model, context_x, context_y, X_test, Y_test,  grid, context_size = 30, num_context = 10):\n",
    "    target_x = X_test\n",
    "    target_y = Y_test\n",
    "\n",
    "\n",
    "    rand_points = np.random.choice(num_context, min(context_size, num_context), replace=False)\n",
    "    # rand_points = np.random.choice(len(context_x), context_size, replace=False)\n",
    "    context_x = context_x[rand_points]\n",
    "    context_y = context_y[rand_points]\n",
    "\n",
    "\n",
    "    context_x = torch.tensor(context_x, dtype=torch.float32)\n",
    "    context_y = torch.tensor(context_y, dtype=torch.float32).view(-1, 1)\n",
    "    target_x = torch.tensor(target_x, dtype=torch.float32)\n",
    "    target_y = torch.tensor(target_y, dtype=torch.float32).view(-1, 1)\n",
    "\n",
    "    predictions = model(context_x, context_y, target_x)\n",
    "    predictions=(predictions >=0.5).int()\n",
    "    predictions = predictions.detach().numpy()\n",
    "    # print(Y_test_data.shape, predictions.reshape(100).shape)\n",
    "\n",
    "\n",
    "    grid_tensor = torch.tensor(grid, dtype=torch.float32).view(10000, 2)\n",
    "    predictions_grid = model(context_x, context_y, grid_tensor)\n",
    "    predictions_grid = predictions_grid.detach().numpy()\n",
    "\n",
    "\n",
    "    return predictions, predictions_grid\n",
    "\n",
    "\n",
    "\n",
    "    \n",
    "grid = np.mgrid[-3:3:100j, -3:3:100j].reshape((2, -1)).T\n",
    "\n",
    "\n",
    "accuracy_lst = []\n",
    "fig, axs = plt.subplots(figsize=(3.2, 7), nrows=5, ncols=2, sharex=True, sharey=True)\n",
    "axs = axs.flatten()\n",
    "for i in range(len(context_points)):\n",
    "\n",
    "    X_train = np.concatenate( (X_train_data, contexts_x[i].reshape(1, n_samples, 2)), axis=0)\n",
    "    Y_train = np.concatenate((Y_train_data, contexts_y[i].reshape(1, n_samples)) , axis = 0)\n",
    "    X_test = np.concatenate((X_train_data, X_test_data.reshape(1, n_samples, 2) ), axis = 0)\n",
    "    Y_test = np.concatenate((Y_train_data, Y_test_data.reshape(1, n_samples)), axis = 0)\n",
    "\n",
    "\n",
    "    print(X_test.shape, X_train.shape, Y_test.shape, Y_train.shape)\n",
    "    # print(X_train[-1][: 10])\n",
    "\n",
    "    model = train_make_moons(X_train, Y_train, num_contexts=context_points[i] ,num_epochs=100000)\n",
    "    predictions, predictions_grid = testing(model, contexts_x[i], contexts_y[i], X_test[-1], Y_test[-1], grid_3d[-1], context_points[i])\n",
    "    print(f\"predictions {predictions.shape}, Y_test {Y_test[-1].shape}\")\n",
    "    # acc = accuracy_lst.append()\n",
    "    acc = accuracy_score(Y_test[-1],  predictions.reshape(100)) * 100\n",
    "    # print(predictions)\n",
    "    # acc = np.mean(Y_test[-1] == predictions.reshape(100)) * 100\n",
    "    print(acc)\n",
    "    accuracy_lst.append(acc)\n",
    "\n",
    "    contour = axs[i].contourf(\n",
    "        grid[:, 0].reshape((100, 100)),\n",
    "        grid[:, 1].reshape((100, 100)),\n",
    "        predictions_grid.reshape(100, 100),\n",
    "        cmap=cmap,\n",
    "    )\n",
    "\n",
    "    X = contexts_x[i]\n",
    "    Y = contexts_y[i]\n",
    "    axs[i].scatter(X[Y == 0, 0], X[Y == 0, 1], label=\"Class 0\", s = 2)\n",
    "    axs[i].scatter(X[Y == 1, 0], X[Y == 1, 1], color=\"r\", label=\"Class 1\", s= 2)\n",
    "    axs[i].set_title(f\"Context {context_points[i]}\", fontsize = 7)\n",
    "    \n",
    "\n",
    "    # axs[i].legend()\n",
    "# fig.suptitle('Angle {}'.format(angles[-1]), fontsize=7)\n",
    "# plt.subplots_adjust(wspace=0.20, hspace=0.40)\n",
    "plt.savefig(\"plots/cnp_compare_makemoon.pdf\", format=\"pdf\", bbox_inches=\"tight\")\n",
    "plt.show()\n"
   ]
  },
  {
   "cell_type": "code",
   "execution_count": 57,
   "metadata": {},
   "outputs": [
    {
     "data": {
      "image/png": "[encoded data removed]",
      "text/plain": [
       "<Figure size 339x209.514 with 1 Axes>"
      ]
     },
     "metadata": {},
     "output_type": "display_data"
    }
   ],
   "source": [
    "fig, ax = plt.subplots()  # Width = 3*5 inches, Height = 5 inches\n",
    "plt.plot(context_points, np.array(accuracy_lst) * n_samples/100)\n",
    "plt.title(\"Accuracy v/s Context\")\n",
    "plt.xlabel(\"Context\")\n",
    "plt.ylabel(\"Accuracy\")\n",
    "ax.tick_params(axis='both', which='both')\n",
    "plt.savefig(\"plots/performance_cnp_makeMoon_.compare.pdf\", format=\"pdf\", bbox_inches=\"tight\")\n",
    "plt.show()"
   ]
  }
 ],
 "metadata": {
  "kernelspec": {
   "display_name": ".venv",
   "language": "python",
   "name": "python3"
  },
  "language_info": {
   "codemirror_mode": {
    "name": "ipython",
    "version": 3
   },
   "file_extension": ".py",
   "mimetype": "text/x-python",
   "name": "python",
   "nbconvert_exporter": "python",
   "pygments_lexer": "ipython3",
   "version": "3.9.6"
  },
  "orig_nbformat": 4
 },
 "nbformat": 4,
 "nbformat_minor": 2
}
