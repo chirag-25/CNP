{
 "cells": [
  {
   "cell_type": "code",
   "execution_count": 1,
   "metadata": {},
   "outputs": [],
   "source": [
    "import torch.optim as optim\n",
    "import numpy as np\n",
    "import matplotlib.pyplot as plt\n",
    "import torch"
   ]
  },
  {
   "cell_type": "code",
   "execution_count": 2,
   "metadata": {},
   "outputs": [],
   "source": [
    "import torch\n",
    "import torch.nn as nn\n",
    "import torch.nn.functional as F\n",
    "\n",
    "class Encoder(nn.Module):\n",
    "    def __init__(self):\n",
    "        super(Encoder, self).__init__()\n",
    "        self.fc1 = nn.Linear(3, 256)\n",
    "        self.fc2 = nn.Linear(256, 256)\n",
    "        self.fc3 = nn.Linear(256, 256)\n",
    "        self.fc6 = nn.Linear(256, 128)\n",
    "\n",
    "        \n",
    "    def forward(self, x):\n",
    "        x = F.relu(self.fc1(x))\n",
    "        x = F.relu(self.fc2(x))\n",
    "        x = F.relu(self.fc3(x))\n",
    "        x = self.fc6(x)\n",
    "        return x\n",
    "\n",
    "class Decoder(nn.Module):\n",
    "    def __init__(self):\n",
    "        super(Decoder, self).__init__()\n",
    "        self.fc1 = nn.Linear(130, 256)\n",
    "        self.fc2 = nn.Linear(256, 256)\n",
    "        self.fc5 = nn.Linear(256, 256)\n",
    "        self.fc6 = nn.Linear(256, 1)\n",
    "        \n",
    "    def forward(self, x):\n",
    "        x = F.relu(self.fc1(x))\n",
    "        x = F.relu(self.fc2(x))\n",
    "        x= F.relu(self.fc5(x))\n",
    "        x = self.fc6(x)\n",
    "        return x\n",
    "\n",
    "class Aggregator(nn.Module):\n",
    "    def __init__(self):\n",
    "        super(Aggregator, self).__init__()\n",
    "        \n",
    "    def forward(self, x):\n",
    "        return torch.mean(x, dim=0)\n",
    "\n",
    "class cnp(nn.Module):\n",
    "    def __init__(self):\n",
    "        super(cnp, self).__init__()\n",
    "        self.encoder = Encoder()\n",
    "        self.decoder = Decoder()\n",
    "        self.aggregator = Aggregator()\n",
    "        \n",
    "    def forward(self, contextx, contexty, targetx):\n",
    "        context = torch.cat([contextx, contexty.view(-1, 1)], dim=1)\n",
    "        encoded_context = self.encoder(context)\n",
    "        aggregated = self.aggregator(encoded_context)\n",
    "        decoder_input = torch.cat([aggregated.unsqueeze(0).expand(len(targetx),-1), targetx.view(-1, 2)], dim=1)\n",
    "        output = self.decoder(decoder_input)\n",
    "        return output\n",
    "\n"
   ]
  },
  {
   "cell_type": "code",
   "execution_count": 4,
   "metadata": {},
   "outputs": [],
   "source": [
    "#upload mnist data\n",
    "import tensorflow as tf\n",
    "(trainx, trainy), (testx, testy) = tf.keras.datasets.mnist.load_data()\n",
    "# trainx=trainx/255"
   ]
  },
  {
   "cell_type": "code",
   "execution_count": 3,
   "metadata": {},
   "outputs": [],
   "source": [
    "\n",
    "model2=cnp()\n",
    "model2.load_state_dict(torch.load(\"./mnist.pth\"))\n",
    "criterion= nn.MSELoss()\n",
    "optimizer=optim.Adam(model2.parameters(), lr=0.001)\n",
    "# trainx=trainx/255\n",
    "# print(trainx[image_index])"
   ]
  },
  {
   "cell_type": "code",
   "execution_count": null,
   "metadata": {},
   "outputs": [
    {
     "name": "stderr",
     "output_type": "stream",
     "text": [
      " 59%|█████▉    | 59091/100000 [06:00<04:09, 163.99it/s]\n"
     ]
    }
   ],
   "source": [
    "from tqdm import tqdm\n",
    "num_epochs=1\n",
    "for i in tqdm(range(100000)):\n",
    "    image_index=np.random.randint(0, 100)\n",
    "    # plt.imshow(trainx[image_index].flatten().reshape(28,28), cmap='gray')\n",
    "    for epoch in (range(num_epochs)):\n",
    "\n",
    "        image=trainx[image_index]\n",
    "        # print(image.shape)\n",
    "        x1 = np.random.choice(28, 300)\n",
    "        x2 = np.random.choice(28, 300)\n",
    "        context_x = np.column_stack((x1, x2))\n",
    "        context_y = image[context_x[:, 1], context_x[:, 0]].reshape(-1, 1)\n",
    "        \n",
    "        \n",
    "        x1, x2 = np.meshgrid(np.arange(28), np.arange(28))\n",
    "        target_x= np.column_stack((x1.reshape(-1), x2.reshape(-1)))\n",
    "        target_y= image[target_x[:, 1], target_x[:, 0]].reshape(-1, 1)\n",
    "\n",
    "        context_x = torch.tensor(context_x, dtype=torch.float32)\n",
    "        context_y = torch.tensor(context_y, dtype=torch.float32)\n",
    "        target_x = torch.tensor(target_x, dtype=torch.float32)\n",
    "        target_y = torch.tensor(target_y, dtype=torch.float32)\n",
    "\n",
    "        # target_x=target_x/\n",
    "        # context_x=context_x/784\n",
    "        \n",
    "\n",
    "        optimizer.zero_grad()\n",
    "        predictions = model2(context_x, context_y, target_x)\n",
    "        loss = criterion(predictions, target_y.view(-1, 1))\n",
    "        loss.backward()\n",
    "        optimizer.step()\n",
    "        # print(f\"Epoch [{epoch+1}/{num_epochs}], Loss: {loss.item():.8f}\")\n"
   ]
  },
  {
   "cell_type": "code",
   "execution_count": 5,
   "metadata": {},
   "outputs": [],
   "source": [
    "path='./mnist.pth'\n",
    "torch.save(model2.state_dict(), path)\n"
   ]
  },
  {
   "cell_type": "code",
   "execution_count": 6,
   "metadata": {},
   "outputs": [
    {
     "data": {
      "image/png": "[encoded data removed]",
      "text/plain": [
       "<Figure size 640x480 with 1 Axes>"
      ]
     },
     "metadata": {},
     "output_type": "display_data"
    }
   ],
   "source": [
    "image=trainx[np.random.randint(0, 100)]\n",
    "plt.imshow(image, cmap='gray')\n",
    "x1 = np.random.choice(28, 300)\n",
    "x2 = np.random.choice(28, 300)\n",
    "context_x = np.column_stack((x1, x2))\n",
    "context_y = image[context_x[:, 1], context_x[:, 0]].reshape(-1, 1)\n",
    "\n",
    "\n",
    "x1, x2 = np.meshgrid(np.arange(28), np.arange(28))\n",
    "target_x= np.column_stack((x1.reshape(-1), x2.reshape(-1)))\n",
    "target_y= image[target_x[:, 1], target_x[:, 0]].reshape(-1, 1)\n",
    "\n",
    "context_x = torch.tensor(context_x, dtype=torch.float32)\n",
    "context_y = torch.tensor(context_y, dtype=torch.float32)\n",
    "target_x = torch.tensor(target_x, dtype=torch.float32)\n",
    "target_y = torch.tensor(target_y, dtype=torch.float32)\n",
    "\n",
    "# target_x=target_x/\n",
    "# context_x=context_x/784\n",
    "\n",
    "\n"
   ]
  },
  {
   "cell_type": "code",
   "execution_count": 7,
   "metadata": {},
   "outputs": [
    {
     "data": {
      "text/plain": [
       "<matplotlib.image.AxesImage at 0x2a0b8e8d0>"
      ]
     },
     "execution_count": 7,
     "metadata": {},
     "output_type": "execute_result"
    },
    {
     "data": {
      "image/png": "[encoded data removed]",
      "text/plain": [
       "<Figure size 640x480 with 1 Axes>"
      ]
     },
     "metadata": {},
     "output_type": "display_data"
    }
   ],
   "source": [
    "#plot the prediction\n",
    "predictions = model2(context_x, context_y, target_x)\n",
    "plt.imshow(predictions.detach().numpy().reshape(28,28), cmap='gray')\n",
    "# plt.imshow(target_y.detach().numpy().reshape(28,28), cmap='gray')"
   ]
  }
 ],
 "metadata": {
  "kernelspec": {
   "display_name": "Python 3",
   "language": "python",
   "name": "python3"
  },
  "language_info": {
   "codemirror_mode": {
    "name": "ipython",
    "version": 3
   },
   "file_extension": ".py",
   "mimetype": "text/x-python",
   "name": "python",
   "nbconvert_exporter": "python",
   "pygments_lexer": "ipython3",
   "version": "3.11.4"
  },
  "orig_nbformat": 4
 },
 "nbformat": 4,
 "nbformat_minor": 2
}
